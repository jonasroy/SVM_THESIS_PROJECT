{
 "cells": [
  {
   "cell_type": "code",
   "execution_count": 18,
   "metadata": {},
   "outputs": [],
   "source": [
    "#Imports \n",
    "import pip\n",
    "from sklearn import svm \n",
    "import scipy.io\n",
    "import numpy as np\n",
    "#from HelperFunctions_ import write_dataset_to_file\n",
    "import sys \n",
    "#!{sys.executable} -m pip install spectral\n",
    "from spectral import *\n",
    "\n"
   ]
  },
  {
   "cell_type": "code",
   "execution_count": 19,
   "metadata": {},
   "outputs": [],
   "source": [
    "#Loading data sets\n",
    "\n",
    "Indian_pines_dataset = scipy.io.loadmat('../HyperSpectralData/Indian_pines.mat') #https://www.ehu.eus/ccwintco/index.php/Hyperspectral_Remote_Sensing_Scenes 145x145 pixesl and 224 spectral reflectance bands in wavelength range 0.4 - 2.5 10^(-6) meters. "
   ]
  },
  {
   "cell_type": "code",
   "execution_count": 20,
   "metadata": {},
   "outputs": [],
   "source": [
    "dataset = Indian_pines_dataset.get('indian_pines')\n",
    "#model = svm.SVC()\n"
   ]
  },
  {
   "cell_type": "code",
   "execution_count": 26,
   "metadata": {},
   "outputs": [
    {
     "data": {
      "text/plain": [
       "dict"
      ]
     },
     "execution_count": 26,
     "metadata": {},
     "output_type": "execute_result"
    }
   ],
   "source": [
    "#Create Hyperimage \n",
    "img = open_image('../HyperSpectralData/Indian_pines.mat')"
   ]
  }
 ],
 "metadata": {
  "kernelspec": {
   "display_name": "Python 3.10.2 64-bit",
   "language": "python",
   "name": "python3"
  },
  "language_info": {
   "codemirror_mode": {
    "name": "ipython",
    "version": 3
   },
   "file_extension": ".py",
   "mimetype": "text/x-python",
   "name": "python",
   "nbconvert_exporter": "python",
   "pygments_lexer": "ipython3",
   "version": "3.10.2"
  },
  "orig_nbformat": 4,
  "vscode": {
   "interpreter": {
    "hash": "683e9bbf599fde3b00e37a0db68ad40a268db525b46af3924c3427b16ddb8792"
   }
  }
 },
 "nbformat": 4,
 "nbformat_minor": 2
}
