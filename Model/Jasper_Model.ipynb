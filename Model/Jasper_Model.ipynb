{
 "cells": [
  {
   "cell_type": "code",
   "execution_count": null,
   "metadata": {},
   "outputs": [],
   "source": [
    "\"\"\"\n",
    "This Jupyter Notebook is used to test the SVMBDT implementation for the Japser Ridge dataset. \n",
    "It also test different other ML algortithms from the function SingleMachineLearningTest(). \n",
    "The labeled figures are store on the folder /Results/Jasper_Results and the results are printed in the console. \n",
    "\"\"\""
   ]
  },
  {
   "cell_type": "code",
   "execution_count": 1,
   "metadata": {},
   "outputs": [],
   "source": [
    "#Imports \n",
    "import pip\n",
    "import glob, os\n",
    "from sklearn import svm \n",
    "import scipy.io as sc\n",
    "import numpy as np\n",
    "from HelperFunctions_ import  split_dataset_paths, subFrame,preprocessing_data, newColorLabels\n",
    "from HelperFunctions_ import  combinePictures, classesInLabels, combineLabelClasses, reshape_sj, SingleMachineLearningTest\n",
    "from SVMBDT import SvmDesionTreeTrain, SvmDesionTreePredict\n",
    "from spectral import *\n",
    "import pylab\n",
    "import tables as tab\n",
    "import matplotlib.pyplot as plt\n",
    "from sklearn import preprocessing\n",
    "from sklearn.model_selection import train_test_split, cross_val_score\n",
    "from sklearn.svm import LinearSVC, SVC, OneClassSVM\n",
    "from sklearn.tree import DecisionTreeClassifier\n",
    "from sklearn.metrics import confusion_matrix, ConfusionMatrixDisplay\n",
    "from sklearn.semi_supervised import SelfTrainingClassifier\n",
    "from sklearn.ensemble import StackingClassifier\n",
    "import pandas as pd\n",
    "from sklearn import datasets\n",
    "import copy\n",
    "import spectral\n",
    "import tables as ta\n",
    "from sklearn.cluster import KMeans\n",
    "from sklearn.neighbors import KNeighborsClassifier\n",
    "import matplotlib.patches as mpatches\n",
    "from sklearn.ensemble import RandomForestClassifier\n",
    "from PIL import Image\n"
   ]
  },
  {
   "cell_type": "code",
   "execution_count": 2,
   "metadata": {},
   "outputs": [],
   "source": [
    "jasper_data = split_dataset_paths(\"../Datasets/jasper/\", [\"mat\"])"
   ]
  },
  {
   "cell_type": "code",
   "execution_count": 3,
   "metadata": {},
   "outputs": [],
   "source": [
    "jasper = sc.loadmat(jasper_data[\"mat\"][1])[\"Y\"]\n",
    "jasper_gt = sc.loadmat(jasper_data[\"mat\"][0])\n",
    "jasper_labels = np.argmax(jasper_gt['A'], axis=0)"
   ]
  },
  {
   "cell_type": "code",
   "execution_count": 4,
   "metadata": {},
   "outputs": [],
   "source": [
    "new_cube = np.zeros((100,100,3))\n",
    "\n",
    "new_cube[:,:,0] = np.array(jasper[24]).reshape(100,100)\n",
    "new_cube[:,:,1] = np.array(jasper[14]).reshape(100,100)\n",
    "new_cube[:,:,2] = np.array(jasper[9]).reshape(100,100)\n",
    "\n",
    "new_cube /= new_cube.max()/2\n",
    "new_cube[new_cube > 1 ] = 1\n",
    "\n",
    "plt.imshow(new_cube)\n",
    "plt.axis('off')\n",
    "plt.savefig(\"../Results/Jasper_Results/Jasper_Data\",dpi = 300, bbox_inches=\"tight\")\n",
    "plt.close()"
   ]
  },
  {
   "cell_type": "code",
   "execution_count": 5,
   "metadata": {},
   "outputs": [],
   "source": [
    "new_jasper = reshape_sj(jasper)\n",
    "\n",
    "X = new_jasper.transpose(0,2,1).reshape((-1,198))\n",
    "X = preprocessing.scale(X, axis=0)\n",
    "y = jasper_labels.flatten()"
   ]
  },
  {
   "cell_type": "code",
   "execution_count": 6,
   "metadata": {},
   "outputs": [],
   "source": [
    "X_train, X_test, y_train, y_test = train_test_split(X,y, test_size=0.95, random_state=1)"
   ]
  },
  {
   "cell_type": "code",
   "execution_count": 9,
   "metadata": {},
   "outputs": [
    {
     "name": "stderr",
     "output_type": "stream",
     "text": [
      "C:\\Users\\jonas\\AppData\\Local\\Temp\\ipykernel_24680\\1811609641.py:22: UserWarning: This figure includes Axes that are not compatible with tight_layout, so results might be incorrect.\n",
      "  plt.savefig(\"../Results/Jasper_Results/Jasper_GT\", dpi = 300, bbox_inches=\"tight\")\n"
     ]
    }
   ],
   "source": [
    "jasper_color_label = {0 : [96, 164, 132], 1 : [35,137,218], 2 : [124,252,0], 3:[105,105,105]}\n",
    "t=255\n",
    "cmap = {}\n",
    "\n",
    "for i in range(len(jasper_color_label)): \n",
    "    cmap[i] = np.array(jasper_color_label[i] + [255])/255\n",
    "\n",
    "jasper_classes = {0: \"Soil\", 1: \"Water\",2: \"Three\", 3:\"Road\"}\n",
    "\n",
    "shape = int(np.sqrt(len(y)))\n",
    "\n",
    "yout_color = newColorLabels(y,shape, shape,jasper_color_label)\n",
    "\n",
    "plt.rcParams[\"figure.figsize\"] = [7.50, 3.50]\n",
    "plt.rcParams[\"figure.autolayout\"] = True\n",
    "\n",
    "patches = [mpatches.Patch(color=cmap[i], label=jasper_classes[i]) for i in jasper_color_label] \n",
    "\n",
    "plt.imshow(yout_color)\n",
    "plt.axis('off')\n",
    "#plt.legend(handles=patches, bbox_to_anchor=(1.05, 1), loc=2, borderaxespad=0. )\n",
    "plt.savefig(\"../Results/Jasper_Results/Jasper_GT\", dpi = 300, bbox_inches=\"tight\")\n",
    "plt.close()"
   ]
  },
  {
   "cell_type": "code",
   "execution_count": 14,
   "metadata": {},
   "outputs": [
    {
     "data": {
      "text/plain": [
       "<Figure size 110x110 with 0 Axes>"
      ]
     },
     "metadata": {},
     "output_type": "display_data"
    }
   ],
   "source": [
    "figLegend = pylab.figure(figsize = (1.1,1.1))\n",
    "figLegend.legend(handles=patches,loc = 'upper left')\n",
    "figLegend.savefig(\"../Results/Jasper_Results/Jasper_Classes\", dpi=500)"
   ]
  },
  {
   "cell_type": "code",
   "execution_count": null,
   "metadata": {},
   "outputs": [
    {
     "name": "stdout",
     "output_type": "stream",
     "text": [
      "The training time is: 0.084 sec.\n",
      "The first branch: 0.003\n",
      "The prediction time is: 0.028 sec.\n"
     ]
    }
   ],
   "source": [
    "jasper_tree = {0: [[1],[0,2,3]], 1: [[], [[0],[2,3]]], 2 : [[],[[2],[3]]]}\n",
    "\n",
    "iter = 1e6\n",
    "\n",
    "jasper_svm_tree = { 0 : LinearSVC(class_weight=\"balanced\", max_iter=iter), \n",
    "        1 : [False, LinearSVC(class_weight=\"balanced\", max_iter=iter)], \n",
    "        2 : [False, LinearSVC(class_weight=\"balanced\", max_iter=iter)],}\n",
    "\n",
    "\n",
    "jasper_tree = {0: [[0,1],[2,3]], 1: [[[0],[1]],[[2],[3]]]}\n",
    "\n",
    "iter = 1e6\n",
    "\n",
    "jasper_svm_tree = { 0 : LinearSVC(class_weight=\"balanced\", max_iter=iter), \n",
    "        1 : [LinearSVC(class_weight=\"balanced\", max_iter=iter), LinearSVC(class_weight=\"balanced\", max_iter=iter)]}\n",
    "\n",
    "\n",
    "svm_tree_branch, data_and_labels_branches = SvmDesionTreeTrain(X_train, y_train, jasper_tree, jasper_svm_tree, sub_data=1)\n",
    "\n",
    "predicted_label, sub_data_branch, predicted_branch_labels = SvmDesionTreePredict(X, svm_tree_branch, jasper_tree, sub_data = 1)"
   ]
  },
  {
   "cell_type": "code",
   "execution_count": null,
   "metadata": {},
   "outputs": [
    {
     "data": {
      "text/plain": [
       "<sklearn.metrics._plot.confusion_matrix.ConfusionMatrixDisplay at 0x1b2e7f4f0d0>"
      ]
     },
     "execution_count": 9,
     "metadata": {},
     "output_type": "execute_result"
    },
    {
     "name": "stderr",
     "output_type": "stream",
     "text": [
      "C:\\Users\\jonas\\AppData\\Local\\Packages\\PythonSoftwareFoundation.Python.3.10_qbz5n2kfra8p0\\LocalCache\\local-packages\\Python310\\site-packages\\IPython\\core\\pylabtools.py:151: UserWarning: This figure includes Axes that are not compatible with tight_layout, so results might be incorrect.\n",
      "  fig.canvas.print_figure(bytes_io, **kw)\n"
     ]
    },
    {
     "data": {
      "image/png": "[encoded data removed]",
      "text/plain": [
       "<Figure size 750x350 with 2 Axes>"
      ]
     },
     "metadata": {},
     "output_type": "display_data"
    }
   ],
   "source": [
    "name_classes = [\"Soil\", \"Water\", \"Three\", \"Road\"]\n",
    "\n",
    "cm = confusion_matrix(y,predicted_label, normalize=\"true\") \n",
    "cmd_obj = ConfusionMatrixDisplay(cm, display_labels=name_classes)\n",
    "cmd_obj.plot()"
   ]
  },
  {
   "cell_type": "code",
   "execution_count": null,
   "metadata": {},
   "outputs": [
    {
     "name": "stderr",
     "output_type": "stream",
     "text": [
      "C:\\Users\\jonas\\AppData\\Local\\Temp\\ipykernel_12736\\170148752.py:5: UserWarning: This figure includes Axes that are not compatible with tight_layout, so results might be incorrect.\n",
      "  plt.savefig(\"../Results/Jasper_Results/Jasper_SVMBDT\", dpi = 300, bbox_inches=\"tight\")\n"
     ]
    }
   ],
   "source": [
    "yout_color = newColorLabels(predicted_label,shape,jasper_color_label)\n",
    "\n",
    "plt.imshow(yout_color)\n",
    "plt.axis('off')\n",
    "plt.savefig(\"../Results/Jasper_Results/Jasper_SVMBDT\", dpi = 300, bbox_inches=\"tight\")\n",
    "plt.close()"
   ]
  },
  {
   "cell_type": "code",
   "execution_count": null,
   "metadata": {},
   "outputs": [
    {
     "data": {
      "text/plain": [
       "0.9745"
      ]
     },
     "execution_count": 11,
     "metadata": {},
     "output_type": "execute_result"
    }
   ],
   "source": [
    "sum(predicted_label==y)/len(y)"
   ]
  },
  {
   "cell_type": "code",
   "execution_count": null,
   "metadata": {},
   "outputs": [
    {
     "name": "stdout",
     "output_type": "stream",
     "text": [
      "Linear 1-vs-1 Training Time: 0.004sec.\n",
      "Linear 1-vs-Rest Training Time: 0.493sec.\n",
      "RBF Training Time: 0.004994sec.\n",
      "Kmeans Training Time: 0.057sec.\n",
      "KNearestNeighbor Training Time: 0.001sec.\n",
      "KNearestNeighbor Training Time: 0.234sec.\n",
      "Linear 1-vs-1 Predict Time: 0.025sec.\n",
      "Linear 1-vs-Rest Predict Time: 0.004sec.\n",
      "RBF Predict Time: 0.211sec.\n",
      "KMeans Predict Time: 0.006sec.\n",
      "KNearestNeighbor Predict Time: 0.306sec.\n",
      "Random Forest Predict Time: 0.06sec.\n",
      "Linear 1-vs-1 Accuracy: 97.54%\n",
      "Linear 1-vs-Rest Accuracy: 96.87%\n",
      "RBF Accuracy: 95.43%\n",
      "KMeans Accuracy: 7.1%\n",
      "KNearestNeighbour Accuracy: 95.19999999999999%\n",
      "Random Forest Accuracy: 95.39999999999999%\n",
      "Linear 1-vs-1 Total SVM Support_Vectors : 44\n",
      "RBF Total SVM Support_Vectors : 136\n",
      "Linear 1-vs-1 Average SVM Support_Vectors : 11.0\n",
      "RBF Average SVM Support_Vectors : 34.0\n"
     ]
    }
   ],
   "source": [
    "linear_ovo_yout, linear_ovr_yout, rbf_yout, kmeans_yout, knearest_yout,random_forest_yout = SingleMachineLearningTest(X,y,X_train, y_train,1e6,4)"
   ]
  },
  {
   "cell_type": "code",
   "execution_count": null,
   "metadata": {},
   "outputs": [
    {
     "name": "stderr",
     "output_type": "stream",
     "text": [
      "C:\\Users\\jonas\\AppData\\Local\\Temp\\ipykernel_12736\\2673854667.py:5: UserWarning: This figure includes Axes that are not compatible with tight_layout, so results might be incorrect.\n",
      "  plt.savefig(\"../Results/Jasper_Results/Jasper_linear_ovo\", dpi = 300, bbox_inches=\"tight\")\n"
     ]
    }
   ],
   "source": [
    "yout_color = newColorLabels(linear_ovo_yout,shape,jasper_color_label)\n",
    "\n",
    "plt.imshow(yout_color)\n",
    "plt.axis('off')\n",
    "plt.savefig(\"../Results/Jasper_Results/Jasper_linear_ovo\", dpi = 300, bbox_inches=\"tight\")\n",
    "plt.close()"
   ]
  },
  {
   "cell_type": "code",
   "execution_count": null,
   "metadata": {},
   "outputs": [
    {
     "name": "stderr",
     "output_type": "stream",
     "text": [
      "C:\\Users\\jonas\\AppData\\Local\\Temp\\ipykernel_12736\\4110861080.py:5: UserWarning: This figure includes Axes that are not compatible with tight_layout, so results might be incorrect.\n",
      "  plt.savefig(\"../Results/Jasper_Results/Jasper_linear_ovr\", dpi = 300, bbox_inches=\"tight\")\n"
     ]
    }
   ],
   "source": [
    "yout_color = newColorLabels(linear_ovr_yout,shape,jasper_color_label)\n",
    "\n",
    "plt.imshow(yout_color)\n",
    "plt.axis('off')\n",
    "plt.savefig(\"../Results/Jasper_Results/Jasper_linear_ovr\", dpi = 300, bbox_inches=\"tight\")\n",
    "plt.close()"
   ]
  },
  {
   "cell_type": "code",
   "execution_count": null,
   "metadata": {},
   "outputs": [
    {
     "name": "stderr",
     "output_type": "stream",
     "text": [
      "C:\\Users\\jonas\\AppData\\Local\\Temp\\ipykernel_12736\\4221797862.py:5: UserWarning: This figure includes Axes that are not compatible with tight_layout, so results might be incorrect.\n",
      "  plt.savefig(\"../Results/Jasper_Results/Jasper_RBF\",dpi = 300, bbox_inches=\"tight\")\n"
     ]
    }
   ],
   "source": [
    "yout_color = newColorLabels(rbf_yout,shape,jasper_color_label)\n",
    "\n",
    "plt.imshow(yout_color)\n",
    "plt.axis('off')\n",
    "plt.savefig(\"../Results/Jasper_Results/Jasper_RBF\",dpi = 300, bbox_inches=\"tight\")\n",
    "plt.close()"
   ]
  },
  {
   "cell_type": "code",
   "execution_count": null,
   "metadata": {},
   "outputs": [
    {
     "name": "stderr",
     "output_type": "stream",
     "text": [
      "C:\\Users\\jonas\\AppData\\Local\\Temp\\ipykernel_12736\\3584444880.py:5: UserWarning: This figure includes Axes that are not compatible with tight_layout, so results might be incorrect.\n",
      "  plt.savefig(\"../Results/Jasper_Results/Jasper_KNN\",dpi = 300, bbox_inches=\"tight\")\n"
     ]
    }
   ],
   "source": [
    "yout_color = newColorLabels(knearest_yout,shape,jasper_color_label)\n",
    "\n",
    "plt.imshow(yout_color)\n",
    "plt.axis('off')\n",
    "plt.savefig(\"../Results/Jasper_Results/Jasper_KNN\",dpi = 300, bbox_inches=\"tight\")\n",
    "plt.close()"
   ]
  },
  {
   "cell_type": "code",
   "execution_count": null,
   "metadata": {},
   "outputs": [
    {
     "name": "stderr",
     "output_type": "stream",
     "text": [
      "C:\\Users\\jonas\\AppData\\Local\\Temp\\ipykernel_12736\\1032792352.py:5: UserWarning: This figure includes Axes that are not compatible with tight_layout, so results might be incorrect.\n",
      "  plt.savefig(\"../Results/Jasper_Results/Jasper_RF\",dpi = 300, bbox_inches=\"tight\")\n"
     ]
    }
   ],
   "source": [
    "yout_color = newColorLabels(random_forest_yout,shape,jasper_color_label)\n",
    "\n",
    "plt.imshow(yout_color)\n",
    "plt.axis('off')\n",
    "plt.savefig(\"../Results/Jasper_Results/Jasper_RF\",dpi = 300, bbox_inches=\"tight\")\n",
    "plt.close()"
   ]
  },
  {
   "cell_type": "code",
   "execution_count": null,
   "metadata": {},
   "outputs": [
    {
     "name": "stderr",
     "output_type": "stream",
     "text": [
      "C:\\Users\\jonas\\AppData\\Local\\Temp\\ipykernel_12736\\2190639207.py:6: UserWarning: This figure includes Axes that are not compatible with tight_layout, so results might be incorrect.\n",
      "  plt.savefig(\"../Results/Jasper_Results/Jasper_KM\",dpi = 300, bbox_inches=\"tight\")\n"
     ]
    }
   ],
   "source": [
    "jasper_color_label = {1 : [96, 164, 132], 0 : [35,137,218], 3 : [124,252,0], 2 :[105,105,105]}\n",
    "yout_color = newColorLabels(kmeans_yout,shape,jasper_color_label)\n",
    "\n",
    "plt.imshow(yout_color)\n",
    "plt.axis('off')\n",
    "plt.savefig(\"../Results/Jasper_Results/Jasper_KM\",dpi = 300, bbox_inches=\"tight\")\n",
    "plt.close()"
   ]
  }
 ],
 "metadata": {
  "kernelspec": {
   "display_name": "Python 3.10.8 64-bit (microsoft store)",
   "language": "python",
   "name": "python3"
  },
  "language_info": {
   "codemirror_mode": {
    "name": "ipython",
    "version": 3
   },
   "file_extension": ".py",
   "mimetype": "text/x-python",
   "name": "python",
   "nbconvert_exporter": "python",
   "pygments_lexer": "ipython3",
   "version": "3.10.8 (tags/v3.10.8:aaaf517, Oct 11 2022, 16:50:30) [MSC v.1933 64 bit (AMD64)]"
  },
  "orig_nbformat": 4,
  "vscode": {
   "interpreter": {
    "hash": "059b92ebffe316512df3810dcdd9739bd5d694b60baa1e9e8136193b1cf34557"
   }
  }
 },
 "nbformat": 4,
 "nbformat_minor": 2
}
