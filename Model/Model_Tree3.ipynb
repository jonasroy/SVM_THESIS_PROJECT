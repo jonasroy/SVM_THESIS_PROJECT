{
 "cells": [
  {
   "cell_type": "code",
   "execution_count": 594,
   "metadata": {},
   "outputs": [],
   "source": [
    "#Imports \n",
    "import pip\n",
    "import glob, os\n",
    "from sklearn import svm \n",
    "import scipy.io as sc\n",
    "import numpy as np\n",
    "from HelperFunctions_ import write_dataset_to_file, split_dataset_paths, subFrame, preprocesing_data, combinePictures, combineModels, classesInLabels, combineLabelClasses, lessBands\n",
    "import sys \n",
    "from spectral import *\n",
    "\n",
    "import tables as tab\n",
    "import matplotlib.pyplot as plt\n",
    "from sklearn import preprocessing\n",
    "from sklearn.model_selection import train_test_split, cross_val_score\n",
    "from sklearn.svm import LinearSVC, SVC, OneClassSVM\n",
    "from sklearn.tree import DecisionTreeClassifier\n",
    "from sklearn.metrics import confusion_matrix, ConfusionMatrixDisplay\n",
    "from sklearn.semi_supervised import SelfTrainingClassifier\n",
    "from sklearn.ensemble import StackingClassifier\n",
    "import pandas as pd\n",
    "from sklearn import datasets\n",
    "import copy\n",
    "import spectral\n"
   ]
  },
  {
   "cell_type": "code",
   "execution_count": 311,
   "metadata": {},
   "outputs": [],
   "source": [
    "#Finding path names \n",
    "Mjosa_data = split_dataset_paths(\"../Datasets/2022_07_11_Mjosa/2022_07_11_Mjosa/\", [\"he5\", \"csv\", \"jpg\"])\n",
    "Andebu_data = split_dataset_paths(\"../Datasets/2021_07_21_Andebu/2021_07_21_Andebu/\", [\"he5\", \"csv\", \"jpg\"])\n",
    "Telemark_data = split_dataset_paths(\"../Datasets/2020_06_23_Telemarkskanalen/2020_06_23_Telemarkskanalen/\", [\"he5\", \"csv\", \"jpg\"])\n",
    "\n",
    "samson_data = split_dataset_paths(\"../Datasets/samson/\", [\"mat\"])\n",
    "jasper_data = split_dataset_paths(\"../Datasets/jasper/\", [\"mat\"])\n",
    "\n"
   ]
  },
  {
   "cell_type": "code",
   "execution_count": 312,
   "metadata": {},
   "outputs": [],
   "source": [
    "#Amount of dataset should be handled\n",
    "N_datasets = 4\n",
    "\n",
    "#Open files \n",
    "open_files_array = []\n",
    "for i in range(N_datasets):\n",
    "    file = tab.open_file(Mjosa_data[\"he5\"][i])\n",
    "    open_files_array.append(file.get_node(\"/HDFEOS/SWATHS/PRS_L1_HCO/\")['Data Fields']['VNIR_Cube'][:,5:,:])\n",
    "\n",
    "#Load the labels \n",
    "load_labels_array = []\n",
    "for i in range(N_datasets):\n",
    "    file = Mjosa_data[\"csv\"][i]\n",
    "    load_labels_array.append(np.loadtxt(file, dtype=np.ubyte))"
   ]
  },
  {
   "cell_type": "code",
   "execution_count": 5,
   "metadata": {},
   "outputs": [
    {
     "name": "stdout",
     "output_type": "stream",
     "text": [
      "1000000\n"
     ]
    }
   ],
   "source": [
    "data = open_files_array[0]\n",
    "labels = load_labels_array[0]\n",
    "print(len(labels.flatten()))"
   ]
  },
  {
   "cell_type": "code",
   "execution_count": 313,
   "metadata": {},
   "outputs": [],
   "source": [
    "samson = sc.loadmat(samson_data[\"mat\"][1])[\"V\"]\n",
    "samson_gt = sc.loadmat(samson_data[\"mat\"][0])\n",
    "samson_labels = np.argmax(samson_gt['A'].T.reshape((-1,3)), axis=1)\n",
    "\n",
    "jasper = sc.loadmat(jasper_data[\"mat\"][1])[\"Y\"]\n",
    "jasper_gt = sc.loadmat(jasper_data[\"mat\"][0])\n",
    "jasper_labels = np.argmax(jasper_gt['A'], axis=0)\n"
   ]
  },
  {
   "cell_type": "code",
   "execution_count": 86,
   "metadata": {},
   "outputs": [],
   "source": [
    "#samson_flipped = flipData(samson)\n",
    "#jasper_flipped = flipData(jasper)\n",
    "\n",
    "#Samson 95x95 picture, 156 bands\n",
    "#Japser 115x115 picture, 224 bands \n",
    "\n",
    "\n",
    "def reshape_sj(data): \n",
    "    \"\"\"\n",
    "    Used to reshape the datasets samson and jasper.\n",
    "    \"\"\"\n",
    "\n",
    "    reshaped_data_buffer = []\n",
    "    pixel_dim = int(np.sqrt(len(data[0])))\n",
    "\n",
    "    for i in range(len(data)):\n",
    "        reshaped_data_buffer.append(np.reshape(np.array(data[i]), (pixel_dim, pixel_dim)))\n",
    "\n",
    "    reshaped_data = []\n",
    "\n",
    "    for i in range(len(reshaped_data_buffer[0])): \n",
    "        X_data = []\n",
    "        for j in range(len(reshaped_data_buffer)): \n",
    "            X_data.append(reshaped_data_buffer[j][i])\n",
    "        reshaped_data.append(X_data)\n",
    "\n",
    "    return np.array(reshaped_data)\n",
    "\n",
    "\n"
   ]
  },
  {
   "cell_type": "code",
   "execution_count": 314,
   "metadata": {},
   "outputs": [
    {
     "name": "stdout",
     "output_type": "stream",
     "text": [
      "9025\n"
     ]
    }
   ],
   "source": [
    "\n",
    "new_new_samson = reshape_sj(samson)\n",
    "\n",
    "X = new_new_samson.transpose(0,2,1).reshape((-1,156))\n",
    "X = preprocessing.scale(X, axis=0)\n",
    "print(len(X))\n",
    "\n",
    "y = samson_labels.flatten()"
   ]
  },
  {
   "cell_type": "code",
   "execution_count": 315,
   "metadata": {},
   "outputs": [
    {
     "data": {
      "text/plain": [
       "[2, 0, 1]"
      ]
     },
     "execution_count": 315,
     "metadata": {},
     "output_type": "execute_result"
    }
   ],
   "source": [
    "classesInLabels(y)"
   ]
  },
  {
   "cell_type": "code",
   "execution_count": 120,
   "metadata": {},
   "outputs": [
    {
     "name": "stdout",
     "output_type": "stream",
     "text": [
      "(9, 156) (9016, 156) (9,) (9016,)\n"
     ]
    },
    {
     "data": {
      "text/plain": [
       "0.8614685004436557"
      ]
     },
     "execution_count": 120,
     "metadata": {},
     "output_type": "execute_result"
    }
   ],
   "source": [
    "# split samson into train test sets\n",
    "s_X_train, s_X_test, s_y_train, s_y_test = train_test_split(X,y, test_size=0.999, random_state=1)\n",
    "print(s_X_train.shape, s_X_test.shape, s_y_train.shape, s_y_test.shape)\n",
    "\n",
    "svm = SVC(kernel=\"linear\")\n",
    "svm.fit(s_X_train, s_y_train)\n",
    "\n",
    "svm.score(s_X_test, s_y_test)"
   ]
  },
  {
   "cell_type": "code",
   "execution_count": null,
   "metadata": {},
   "outputs": [],
   "source": []
  },
  {
   "cell_type": "code",
   "execution_count": 121,
   "metadata": {},
   "outputs": [],
   "source": [
    "#svm_samson.score(s_X_test, s_y_test)\n",
    "Xout = svm.predict(X)"
   ]
  },
  {
   "cell_type": "code",
   "execution_count": 122,
   "metadata": {},
   "outputs": [
    {
     "data": {
      "text/plain": [
       "<matplotlib.colorbar.Colorbar at 0x190af6c8d60>"
      ]
     },
     "execution_count": 122,
     "metadata": {},
     "output_type": "execute_result"
    },
    {
     "data": {
      "image/png": "[encoded data removed]",
      "text/plain": [
       "<Figure size 640x480 with 2 Axes>"
      ]
     },
     "metadata": {},
     "output_type": "display_data"
    }
   ],
   "source": [
    "cm = confusion_matrix(y_true = y, y_pred = Xout, normalize='true')\n",
    "\n",
    "plt.imshow(cm, vmax=1, vmin=0) \n",
    "plt.ylabel('True')\n",
    "plt.xlabel('prediction')\n",
    "plt.colorbar()"
   ]
  },
  {
   "cell_type": "code",
   "execution_count": 123,
   "metadata": {},
   "outputs": [
    {
     "data": {
      "text/plain": [
       "<matplotlib.image.AxesImage at 0x190af848d90>"
      ]
     },
     "execution_count": 123,
     "metadata": {},
     "output_type": "execute_result"
    },
    {
     "data": {
      "image/png": "[encoded data removed]",
      "text/plain": [
       "<Figure size 640x480 with 1 Axes>"
      ]
     },
     "metadata": {},
     "output_type": "display_data"
    }
   ],
   "source": [
    "plt.imshow(Xout.reshape((95,95)))"
   ]
  },
  {
   "cell_type": "code",
   "execution_count": 131,
   "metadata": {},
   "outputs": [
    {
     "data": {
      "text/plain": [
       "<matplotlib.image.AxesImage at 0x190af982dd0>"
      ]
     },
     "execution_count": 131,
     "metadata": {},
     "output_type": "execute_result"
    },
    {
     "data": {
      "image/png": "[encoded data removed]",
      "text/plain": [
       "<Figure size 640x480 with 1 Axes>"
      ]
     },
     "metadata": {},
     "output_type": "display_data"
    }
   ],
   "source": [
    "plt.imshow(samson_labels.reshape((95,95)))"
   ]
  },
  {
   "cell_type": "code",
   "execution_count": 124,
   "metadata": {},
   "outputs": [],
   "source": [
    "seperation = {0 : [[1,2,3], [4,5,6]] , 1 : [[[1,2], [3]],[[4], [5,6]]]}\n",
    "\n",
    "def DesicionTree(data, labels, class_tree): \n",
    "\n",
    "    svm_branches = {}\n",
    "    \n",
    "    for branch in class_tree: \n",
    "        svm = SVC()\n",
    "        \n",
    "    return 0 "
   ]
  },
  {
   "cell_type": "code",
   "execution_count": 125,
   "metadata": {},
   "outputs": [
    {
     "name": "stdout",
     "output_type": "stream",
     "text": [
      "100\n",
      "198\n",
      "100\n"
     ]
    }
   ],
   "source": [
    "\n",
    "new_jasper = reshape_sj(jasper)\n",
    "\n",
    "print(len(new_jasper))\n",
    "print(len(new_jasper[0]))\n",
    "print(len(new_jasper[0][0]))"
   ]
  },
  {
   "cell_type": "code",
   "execution_count": 126,
   "metadata": {},
   "outputs": [
    {
     "name": "stdout",
     "output_type": "stream",
     "text": [
      "10000\n"
     ]
    }
   ],
   "source": [
    "X = new_jasper.transpose(0,2,1).reshape((-1,198))\n",
    "X = preprocessing.scale(X, axis=0)\n",
    "print(len(X))\n",
    "\n",
    "y = jasper_labels.flatten()"
   ]
  },
  {
   "cell_type": "code",
   "execution_count": 127,
   "metadata": {},
   "outputs": [
    {
     "name": "stdout",
     "output_type": "stream",
     "text": [
      "(10, 198) (9990, 198) (10,) (9990,)\n"
     ]
    },
    {
     "data": {
      "text/plain": [
       "0.7954954954954955"
      ]
     },
     "execution_count": 127,
     "metadata": {},
     "output_type": "execute_result"
    }
   ],
   "source": [
    "# split samson into train test sets\n",
    "j_X_train, j_X_test, j_y_train, j_y_test = train_test_split(X,y, test_size=0.999, random_state=1)\n",
    "print(j_X_train.shape, j_X_test.shape, j_y_train.shape, j_y_test.shape)\n",
    "\n",
    "svm = SVC(kernel=\"linear\")\n",
    "svm.fit(j_X_train, j_y_train)\n",
    "\n",
    "svm.score(j_X_test, j_y_test)"
   ]
  },
  {
   "cell_type": "code",
   "execution_count": 128,
   "metadata": {},
   "outputs": [],
   "source": [
    "#svm_samson.score(s_X_test, s_y_test)\n",
    "Xout = svm.predict(X)"
   ]
  },
  {
   "cell_type": "code",
   "execution_count": 129,
   "metadata": {},
   "outputs": [
    {
     "data": {
      "text/plain": [
       "<matplotlib.colorbar.Colorbar at 0x190af8c8dc0>"
      ]
     },
     "execution_count": 129,
     "metadata": {},
     "output_type": "execute_result"
    },
    {
     "data": {
      "image/png": "[encoded data removed]",
      "text/plain": [
       "<Figure size 640x480 with 2 Axes>"
      ]
     },
     "metadata": {},
     "output_type": "display_data"
    }
   ],
   "source": [
    "cm = confusion_matrix(y_true = y, y_pred = Xout, normalize='true')\n",
    "\n",
    "plt.imshow(cm, vmax=1, vmin=0) \n",
    "plt.ylabel('True')\n",
    "plt.xlabel('prediction')\n",
    "plt.colorbar()"
   ]
  },
  {
   "cell_type": "code",
   "execution_count": 130,
   "metadata": {},
   "outputs": [
    {
     "data": {
      "text/plain": [
       "<matplotlib.image.AxesImage at 0x190af9f6fb0>"
      ]
     },
     "execution_count": 130,
     "metadata": {},
     "output_type": "execute_result"
    },
    {
     "data": {
      "image/png": "[encoded data removed]",
      "text/plain": [
       "<Figure size 640x480 with 1 Axes>"
      ]
     },
     "metadata": {},
     "output_type": "display_data"
    }
   ],
   "source": [
    "plt.imshow(jasper_labels.reshape((100,100)))"
   ]
  },
  {
   "cell_type": "code",
   "execution_count": 176,
   "metadata": {},
   "outputs": [
    {
     "name": "stdout",
     "output_type": "stream",
     "text": [
      "9025\n"
     ]
    }
   ],
   "source": [
    "new_new_samson = reshape_sj(samson)\n",
    "\n",
    "X = new_new_samson.transpose(0,2,1).reshape((-1,156))\n",
    "X = preprocessing.scale(X, axis=0)\n",
    "print(len(X))\n",
    "\n",
    "y = samson_labels.flatten()\n",
    "\n"
   ]
  },
  {
   "cell_type": "code",
   "execution_count": 459,
   "metadata": {},
   "outputs": [
    {
     "data": {
      "text/html": [
       "<style>#sk-container-id-14 {color: black;background-color: white;}#sk-container-id-14 pre{padding: 0;}#sk-container-id-14 div.sk-toggleable {background-color: white;}#sk-container-id-14 label.sk-toggleable__label {cursor: pointer;display: block;width: 100%;margin-bottom: 0;padding: 0.3em;box-sizing: border-box;text-align: center;}#sk-container-id-14 label.sk-toggleable__label-arrow:before {content: \"▸\";float: left;margin-right: 0.25em;color: #696969;}#sk-container-id-14 label.sk-toggleable__label-arrow:hover:before {color: black;}#sk-container-id-14 div.sk-estimator:hover label.sk-toggleable__label-arrow:before {color: black;}#sk-container-id-14 div.sk-toggleable__content {max-height: 0;max-width: 0;overflow: hidden;text-align: left;background-color: #f0f8ff;}#sk-container-id-14 div.sk-toggleable__content pre {margin: 0.2em;color: black;border-radius: 0.25em;background-color: #f0f8ff;}#sk-container-id-14 input.sk-toggleable__control:checked~div.sk-toggleable__content {max-height: 200px;max-width: 100%;overflow: auto;}#sk-container-id-14 input.sk-toggleable__control:checked~label.sk-toggleable__label-arrow:before {content: \"▾\";}#sk-container-id-14 div.sk-estimator input.sk-toggleable__control:checked~label.sk-toggleable__label {background-color: #d4ebff;}#sk-container-id-14 div.sk-label input.sk-toggleable__control:checked~label.sk-toggleable__label {background-color: #d4ebff;}#sk-container-id-14 input.sk-hidden--visually {border: 0;clip: rect(1px 1px 1px 1px);clip: rect(1px, 1px, 1px, 1px);height: 1px;margin: -1px;overflow: hidden;padding: 0;position: absolute;width: 1px;}#sk-container-id-14 div.sk-estimator {font-family: monospace;background-color: #f0f8ff;border: 1px dotted black;border-radius: 0.25em;box-sizing: border-box;margin-bottom: 0.5em;}#sk-container-id-14 div.sk-estimator:hover {background-color: #d4ebff;}#sk-container-id-14 div.sk-parallel-item::after {content: \"\";width: 100%;border-bottom: 1px solid gray;flex-grow: 1;}#sk-container-id-14 div.sk-label:hover label.sk-toggleable__label {background-color: #d4ebff;}#sk-container-id-14 div.sk-serial::before {content: \"\";position: absolute;border-left: 1px solid gray;box-sizing: border-box;top: 0;bottom: 0;left: 50%;z-index: 0;}#sk-container-id-14 div.sk-serial {display: flex;flex-direction: column;align-items: center;background-color: white;padding-right: 0.2em;padding-left: 0.2em;position: relative;}#sk-container-id-14 div.sk-item {position: relative;z-index: 1;}#sk-container-id-14 div.sk-parallel {display: flex;align-items: stretch;justify-content: center;background-color: white;position: relative;}#sk-container-id-14 div.sk-item::before, #sk-container-id-14 div.sk-parallel-item::before {content: \"\";position: absolute;border-left: 1px solid gray;box-sizing: border-box;top: 0;bottom: 0;left: 50%;z-index: -1;}#sk-container-id-14 div.sk-parallel-item {display: flex;flex-direction: column;z-index: 1;position: relative;background-color: white;}#sk-container-id-14 div.sk-parallel-item:first-child::after {align-self: flex-end;width: 50%;}#sk-container-id-14 div.sk-parallel-item:last-child::after {align-self: flex-start;width: 50%;}#sk-container-id-14 div.sk-parallel-item:only-child::after {width: 0;}#sk-container-id-14 div.sk-dashed-wrapped {border: 1px dashed gray;margin: 0 0.4em 0.5em 0.4em;box-sizing: border-box;padding-bottom: 0.4em;background-color: white;}#sk-container-id-14 div.sk-label label {font-family: monospace;font-weight: bold;display: inline-block;line-height: 1.2em;}#sk-container-id-14 div.sk-label-container {text-align: center;}#sk-container-id-14 div.sk-container {/* jupyter's `normalize.less` sets `[hidden] { display: none; }` but bootstrap.min.css set `[hidden] { display: none !important; }` so we also need the `!important` here to be able to override the default hidden behavior on the sphinx rendered scikit-learn.org. See: https://github.com/scikit-learn/scikit-learn/issues/21755 */display: inline-block !important;position: relative;}#sk-container-id-14 div.sk-text-repr-fallback {display: none;}</style><div id=\"sk-container-id-14\" class=\"sk-top-container\"><div class=\"sk-text-repr-fallback\"><pre>SVC()</pre><b>In a Jupyter environment, please rerun this cell to show the HTML representation or trust the notebook. <br />On GitHub, the HTML representation is unable to render, please try loading this page with nbviewer.org.</b></div><div class=\"sk-container\" hidden><div class=\"sk-item\"><div class=\"sk-estimator sk-toggleable\"><input class=\"sk-toggleable__control sk-hidden--visually\" id=\"sk-estimator-id-14\" type=\"checkbox\" checked><label for=\"sk-estimator-id-14\" class=\"sk-toggleable__label sk-toggleable__label-arrow\">SVC</label><div class=\"sk-toggleable__content\"><pre>SVC()</pre></div></div></div></div></div>"
      ],
      "text/plain": [
       "SVC()"
      ]
     },
     "execution_count": 459,
     "metadata": {},
     "output_type": "execute_result"
    }
   ],
   "source": [
    "#Desion tree implementation \n",
    "train = copy.deepcopy(X)\n",
    "labels = copy.deepcopy(samson_labels)\n",
    "\n",
    "labels[labels == 1] = 0 \n",
    "svm_al = SVC(kernel=\"rbf\")\n",
    "svm_al.fit(train, labels.flatten())\n",
    "\n",
    "x_train = train[samson_labels != 2]\n",
    "labels2 = samson_labels[samson_labels != 2]\n",
    "\n",
    "svm_be = SVC(kernel=\"rbf\")\n",
    "svm_be.fit(x_train, labels2)"
   ]
  },
  {
   "cell_type": "code",
   "execution_count": 460,
   "metadata": {},
   "outputs": [],
   "source": [
    "# split samson into train test sets\n",
    "X_train, X_test, y_train, y_test = train_test_split(X,y, test_size=0.999, random_state=1)"
   ]
  },
  {
   "cell_type": "code",
   "execution_count": 580,
   "metadata": {},
   "outputs": [
    {
     "name": "stdout",
     "output_type": "stream",
     "text": [
      "0.9904709141274238\n"
     ]
    },
    {
     "data": {
      "text/plain": [
       "0.9802424786708577"
      ]
     },
     "execution_count": 580,
     "metadata": {},
     "output_type": "execute_result"
    }
   ],
   "source": [
    "# Test the predicted yout data vs the true y data. \n",
    "yout = svm_al.predict(train)\n",
    "yout2 = svm_be.predict(x_train)\n",
    "\n",
    "print((yout==labels).sum()/len(labels))\n",
    "(yout4==y[y != 2]).sum()/len(y[y != 2])\n"
   ]
  },
  {
   "cell_type": "code",
   "execution_count": 581,
   "metadata": {},
   "outputs": [
    {
     "name": "stdout",
     "output_type": "stream",
     "text": [
      "9025\n",
      "6681\n",
      "[2, 0]\n",
      "[0, 1]\n",
      "86\n",
      "6681\n"
     ]
    }
   ],
   "source": [
    "print(len(yout))\n",
    "print(len(yout2))\n",
    "\n",
    "print(classesInLabels(yout))\n",
    "print(classesInLabels(yout2))\n",
    "\n",
    "#print(len(yout[yout == 0]))\n",
    "\n",
    "count = len(yout2) - len(yout[yout == 0]) \n",
    "print(count)\n",
    "\n",
    "jump_over = 0\n",
    "\n",
    "for i in range(len(yout)): \n",
    "    if(yout[i] == 0): \n",
    "        if(jump_over < 10): \n",
    "            yout[i] = yout2[jump_over]\n",
    "            jump_over += 1 \n",
    "            count += 1\n",
    "        else: \n",
    "            yout[i] = yout2[count]\n",
    "            count += 1\n",
    "\n",
    "print(count)"
   ]
  },
  {
   "cell_type": "code",
   "execution_count": 602,
   "metadata": {},
   "outputs": [
    {
     "data": {
      "text/plain": [
       "<sklearn.metrics._plot.confusion_matrix.ConfusionMatrixDisplay at 0x190c4c19bd0>"
      ]
     },
     "execution_count": 602,
     "metadata": {},
     "output_type": "execute_result"
    },
    {
     "data": {
      "image/png": "[encoded data removed]",
      "text/plain": [
       "<Figure size 640x480 with 2 Axes>"
      ]
     },
     "metadata": {},
     "output_type": "display_data"
    }
   ],
   "source": [
    "name_classes = [\"Ground\", \"Three\", \"Water\"]\n",
    "\n",
    "\n",
    "cm = confusion_matrix(y,yout, normalize=\"true\") \n",
    "cmd_obj = ConfusionMatrixDisplay(cm, display_labels=name_classes)\n",
    "cmd_obj.plot()"
   ]
  },
  {
   "cell_type": "code",
   "execution_count": 587,
   "metadata": {},
   "outputs": [
    {
     "data": {
      "text/plain": [
       "<matplotlib.colorbar.Colorbar at 0x190c4749f30>"
      ]
     },
     "execution_count": 587,
     "metadata": {},
     "output_type": "execute_result"
    },
    {
     "data": {
      "image/png": "[encoded data removed]",
      "text/plain": [
       "<Figure size 640x480 with 2 Axes>"
      ]
     },
     "metadata": {},
     "output_type": "display_data"
    }
   ],
   "source": [
    "cm = confusion_matrix(y_true = y, y_pred = yout, normalize='true')\n",
    "\n",
    "plt.imshow(cm, vmax=1, vmin=0) \n",
    "plt.ylabel('True')\n",
    "plt.xlabel('prediction')\n",
    "plt.colorbar()"
   ]
  },
  {
   "cell_type": "code",
   "execution_count": 604,
   "metadata": {},
   "outputs": [
    {
     "data": {
      "text/plain": [
       "<matplotlib.image.AxesImage at 0x190c4dce050>"
      ]
     },
     "execution_count": 604,
     "metadata": {},
     "output_type": "execute_result"
    },
    {
     "data": {
      "image/png": "[encoded data removed]",
      "text/plain": [
       "<Figure size 640x480 with 1 Axes>"
      ]
     },
     "metadata": {},
     "output_type": "display_data"
    }
   ],
   "source": [
    "plt.imshow(yout.reshape((95,95)))"
   ]
  },
  {
   "cell_type": "code",
   "execution_count": 605,
   "metadata": {},
   "outputs": [
    {
     "data": {
      "text/plain": [
       "<matplotlib.image.AxesImage at 0x190c4e4c580>"
      ]
     },
     "execution_count": 605,
     "metadata": {},
     "output_type": "execute_result"
    },
    {
     "data": {
      "image/png": "[encoded data removed]",
      "text/plain": [
       "<Figure size 640x480 with 1 Axes>"
      ]
     },
     "metadata": {},
     "output_type": "display_data"
    }
   ],
   "source": [
    "plt.imshow(y.reshape((95,95)))"
   ]
  },
  {
   "cell_type": "code",
   "execution_count": 583,
   "metadata": {},
   "outputs": [
    {
     "data": {
      "text/plain": [
       "0.9233240997229917"
      ]
     },
     "execution_count": 583,
     "metadata": {},
     "output_type": "execute_result"
    }
   ],
   "source": [
    "# Test the predicted yout data vs the true y data. \n",
    "(yout==y).sum()/len(y)"
   ]
  }
 ],
 "metadata": {
  "kernelspec": {
   "display_name": "Python 3.10.8 64-bit (microsoft store)",
   "language": "python",
   "name": "python3"
  },
  "language_info": {
   "codemirror_mode": {
    "name": "ipython",
    "version": 3
   },
   "file_extension": ".py",
   "mimetype": "text/x-python",
   "name": "python",
   "nbconvert_exporter": "python",
   "pygments_lexer": "ipython3",
   "version": "3.10.8"
  },
  "orig_nbformat": 4,
  "vscode": {
   "interpreter": {
    "hash": "059b92ebffe316512df3810dcdd9739bd5d694b60baa1e9e8136193b1cf34557"
   }
  }
 },
 "nbformat": 4,
 "nbformat_minor": 2
}
