{
 "cells": [
  {
   "cell_type": "code",
   "execution_count": 36,
   "metadata": {},
   "outputs": [],
   "source": [
    "#Imports \n",
    "import pip\n",
    "import glob, os\n",
    "from sklearn import svm \n",
    "import scipy.io as sc\n",
    "import numpy as np\n",
    "from HelperFunctions_ import write_dataset_to_file, split_dataset_paths, subFrame, preprocesing_data, combinePictures, combineModels, classesInLabels, combineLabelClasses, lessBands, reshape_sj\n",
    "import sys \n",
    "from spectral import *\n",
    "\n",
    "import tables as tab\n",
    "import matplotlib.pyplot as plt\n",
    "from sklearn import preprocessing\n",
    "from sklearn.model_selection import train_test_split, cross_val_score\n",
    "from sklearn.svm import LinearSVC, SVC, OneClassSVM\n",
    "from sklearn.tree import DecisionTreeClassifier\n",
    "from sklearn.metrics import confusion_matrix, ConfusionMatrixDisplay\n",
    "from sklearn.semi_supervised import SelfTrainingClassifier\n",
    "from sklearn.ensemble import StackingClassifier\n",
    "import pandas as pd\n",
    "from sklearn import datasets\n",
    "import copy\n",
    "import spectral\n"
   ]
  },
  {
   "cell_type": "code",
   "execution_count": 37,
   "metadata": {},
   "outputs": [],
   "source": [
    "#Finding path names \n",
    "Mjosa_data = split_dataset_paths(\"../Datasets/2022_07_11_Mjosa/2022_07_11_Mjosa/\", [\"he5\", \"csv\", \"jpg\"])\n",
    "Andebu_data = split_dataset_paths(\"../Datasets/2021_07_21_Andebu/2021_07_21_Andebu/\", [\"he5\", \"csv\", \"jpg\"])\n",
    "Telemark_data = split_dataset_paths(\"../Datasets/2020_06_23_Telemarkskanalen/2020_06_23_Telemarkskanalen/\", [\"he5\", \"csv\", \"jpg\"])\n",
    "\n",
    "samson_data = split_dataset_paths(\"../Datasets/samson/\", [\"mat\"])\n",
    "jasper_data = split_dataset_paths(\"../Datasets/jasper/\", [\"mat\"])\n",
    "\n"
   ]
  },
  {
   "cell_type": "code",
   "execution_count": 38,
   "metadata": {},
   "outputs": [],
   "source": [
    "#Amount of dataset should be handled\n",
    "N_datasets = 4\n",
    "\n",
    "#Open files \n",
    "open_files_array = []\n",
    "for i in range(N_datasets):\n",
    "    file = tab.open_file(Mjosa_data[\"he5\"][i])\n",
    "    open_files_array.append(file.get_node(\"/HDFEOS/SWATHS/PRS_L1_HCO/\")['Data Fields']['VNIR_Cube'][:,5:,:])\n",
    "\n",
    "#Load the labels \n",
    "load_labels_array = []\n",
    "for i in range(N_datasets):\n",
    "    file = Mjosa_data[\"csv\"][i]\n",
    "    load_labels_array.append(np.loadtxt(file, dtype=np.ubyte))"
   ]
  },
  {
   "cell_type": "code",
   "execution_count": 4,
   "metadata": {},
   "outputs": [
    {
     "name": "stdout",
     "output_type": "stream",
     "text": [
      "1000000\n"
     ]
    }
   ],
   "source": [
    "data = open_files_array[0]\n",
    "labels = load_labels_array[0]\n",
    "print(len(labels.flatten()))"
   ]
  },
  {
   "cell_type": "code",
   "execution_count": 39,
   "metadata": {},
   "outputs": [],
   "source": [
    "samson = sc.loadmat(samson_data[\"mat\"][1])[\"V\"]\n",
    "samson_gt = sc.loadmat(samson_data[\"mat\"][0])\n",
    "samson_labels = np.argmax(samson_gt['A'].T.reshape((-1,3)), axis=1)\n",
    "\n",
    "jasper = sc.loadmat(jasper_data[\"mat\"][1])[\"Y\"]\n",
    "jasper_gt = sc.loadmat(jasper_data[\"mat\"][0])\n",
    "jasper_labels = np.argmax(jasper_gt['A'], axis=0)\n"
   ]
  },
  {
   "cell_type": "code",
   "execution_count": 40,
   "metadata": {},
   "outputs": [
    {
     "name": "stdout",
     "output_type": "stream",
     "text": [
      "9025\n"
     ]
    }
   ],
   "source": [
    "\n",
    "new_new_samson = reshape_sj(samson)\n",
    "\n",
    "X = new_new_samson.transpose(0,2,1).reshape((-1,156))\n",
    "X = preprocessing.scale(X, axis=0)\n",
    "print(len(X))\n",
    "\n",
    "y = samson_labels.flatten()"
   ]
  },
  {
   "cell_type": "code",
   "execution_count": 9,
   "metadata": {},
   "outputs": [
    {
     "data": {
      "text/plain": [
       "[2, 0, 1]"
      ]
     },
     "execution_count": 9,
     "metadata": {},
     "output_type": "execute_result"
    }
   ],
   "source": [
    "classesInLabels(y)"
   ]
  },
  {
   "cell_type": "code",
   "execution_count": 10,
   "metadata": {},
   "outputs": [
    {
     "name": "stdout",
     "output_type": "stream",
     "text": [
      "(9, 156) (9016, 156) (9,) (9016,)\n"
     ]
    },
    {
     "data": {
      "text/plain": [
       "0.8614685004436557"
      ]
     },
     "execution_count": 10,
     "metadata": {},
     "output_type": "execute_result"
    }
   ],
   "source": [
    "# split samson into train test sets\n",
    "s_X_train, s_X_test, s_y_train, s_y_test = train_test_split(X,y, test_size=0.999, random_state=1)\n",
    "print(s_X_train.shape, s_X_test.shape, s_y_train.shape, s_y_test.shape)\n",
    "\n",
    "svm = SVC(kernel=\"linear\")\n",
    "svm.fit(s_X_train, s_y_train)\n",
    "\n",
    "svm.score(s_X_test, s_y_test)"
   ]
  },
  {
   "cell_type": "code",
   "execution_count": null,
   "metadata": {},
   "outputs": [],
   "source": []
  },
  {
   "cell_type": "code",
   "execution_count": 11,
   "metadata": {},
   "outputs": [],
   "source": [
    "#svm_samson.score(s_X_test, s_y_test)\n",
    "Xout = svm.predict(X)"
   ]
  },
  {
   "cell_type": "code",
   "execution_count": 12,
   "metadata": {},
   "outputs": [
    {
     "data": {
      "text/plain": [
       "<matplotlib.colorbar.Colorbar at 0x18793e5d840>"
      ]
     },
     "execution_count": 12,
     "metadata": {},
     "output_type": "execute_result"
    },
    {
     "data": {
      "image/png": "[encoded data removed]",
      "text/plain": [
       "<Figure size 640x480 with 2 Axes>"
      ]
     },
     "metadata": {},
     "output_type": "display_data"
    }
   ],
   "source": [
    "cm = confusion_matrix(y_true = y, y_pred = Xout, normalize='true')\n",
    "\n",
    "plt.imshow(cm, vmax=1, vmin=0) \n",
    "plt.ylabel('True')\n",
    "plt.xlabel('prediction')\n",
    "plt.colorbar()"
   ]
  },
  {
   "cell_type": "code",
   "execution_count": 13,
   "metadata": {},
   "outputs": [
    {
     "data": {
      "text/plain": [
       "<matplotlib.image.AxesImage at 0x187937a87f0>"
      ]
     },
     "execution_count": 13,
     "metadata": {},
     "output_type": "execute_result"
    },
    {
     "data": {
      "image/png": "[encoded data removed]",
      "text/plain": [
       "<Figure size 640x480 with 1 Axes>"
      ]
     },
     "metadata": {},
     "output_type": "display_data"
    }
   ],
   "source": [
    "plt.imshow(Xout.reshape((95,95)))"
   ]
  },
  {
   "cell_type": "code",
   "execution_count": 14,
   "metadata": {},
   "outputs": [
    {
     "data": {
      "text/plain": [
       "<matplotlib.image.AxesImage at 0x187a6c1c0d0>"
      ]
     },
     "execution_count": 14,
     "metadata": {},
     "output_type": "execute_result"
    },
    {
     "data": {
      "image/png": "[encoded data removed]",
      "text/plain": [
       "<Figure size 640x480 with 1 Axes>"
      ]
     },
     "metadata": {},
     "output_type": "display_data"
    }
   ],
   "source": [
    "plt.imshow(samson_labels.reshape((95,95)))"
   ]
  },
  {
   "cell_type": "code",
   "execution_count": 15,
   "metadata": {},
   "outputs": [],
   "source": [
    "seperation = {0 : [[1,2,3], [4,5,6]] , 1 : [[[1,2], [3]],[[4], [5,6]]]}\n",
    "\n",
    "def DesicionTree(data, labels, class_tree): \n",
    "\n",
    "    svm_branches = {}\n",
    "    \n",
    "    for branch in class_tree: \n",
    "        svm = SVC()\n",
    "        \n",
    "    return 0 "
   ]
  },
  {
   "cell_type": "code",
   "execution_count": null,
   "metadata": {},
   "outputs": [],
   "source": [
    "\n"
   ]
  },
  {
   "cell_type": "code",
   "execution_count": 8,
   "metadata": {},
   "outputs": [
    {
     "ename": "NameError",
     "evalue": "name 'new_jasper' is not defined",
     "output_type": "error",
     "traceback": [
      "\u001b[1;31m---------------------------------------------------------------------------\u001b[0m",
      "\u001b[1;31mNameError\u001b[0m                                 Traceback (most recent call last)",
      "Cell \u001b[1;32mIn [8], line 1\u001b[0m\n\u001b[1;32m----> 1\u001b[0m X \u001b[39m=\u001b[39m new_jasper\u001b[39m.\u001b[39mtranspose(\u001b[39m0\u001b[39m,\u001b[39m2\u001b[39m,\u001b[39m1\u001b[39m)\u001b[39m.\u001b[39mreshape((\u001b[39m-\u001b[39m\u001b[39m1\u001b[39m,\u001b[39m198\u001b[39m))\n\u001b[0;32m      2\u001b[0m X \u001b[39m=\u001b[39m preprocessing\u001b[39m.\u001b[39mscale(X, axis\u001b[39m=\u001b[39m\u001b[39m0\u001b[39m)\n\u001b[0;32m      3\u001b[0m \u001b[39mprint\u001b[39m(\u001b[39mlen\u001b[39m(X))\n",
      "\u001b[1;31mNameError\u001b[0m: name 'new_jasper' is not defined"
     ]
    }
   ],
   "source": [
    "X = new_jasper.transpose(0,2,1).reshape((-1,198))\n",
    "X = preprocessing.scale(X, axis=0)\n",
    "print(len(X))\n",
    "\n",
    "y = jasper_labels.flatten()"
   ]
  },
  {
   "cell_type": "code",
   "execution_count": null,
   "metadata": {},
   "outputs": [
    {
     "name": "stdout",
     "output_type": "stream",
     "text": [
      "(10, 198) (9990, 198) (10,) (9990,)\n"
     ]
    },
    {
     "data": {
      "text/plain": [
       "0.7954954954954955"
      ]
     },
     "execution_count": 127,
     "metadata": {},
     "output_type": "execute_result"
    }
   ],
   "source": [
    "# split samson into train test sets\n",
    "j_X_train, j_X_test, j_y_train, j_y_test = train_test_split(X,y, test_size=0.999, random_state=1)\n",
    "print(j_X_train.shape, j_X_test.shape, j_y_train.shape, j_y_test.shape)\n",
    "\n",
    "svm = SVC(kernel=\"linear\")\n",
    "svm.fit(j_X_train, j_y_train)\n",
    "\n",
    "svm.score(j_X_test, j_y_test)"
   ]
  },
  {
   "cell_type": "code",
   "execution_count": 7,
   "metadata": {},
   "outputs": [
    {
     "ename": "AttributeError",
     "evalue": "module 'sklearn.svm' has no attribute 'predict'",
     "output_type": "error",
     "traceback": [
      "\u001b[1;31m---------------------------------------------------------------------------\u001b[0m",
      "\u001b[1;31mAttributeError\u001b[0m                            Traceback (most recent call last)",
      "Cell \u001b[1;32mIn [7], line 2\u001b[0m\n\u001b[0;32m      1\u001b[0m \u001b[39m#svm_samson.score(s_X_test, s_y_test)\u001b[39;00m\n\u001b[1;32m----> 2\u001b[0m Xout \u001b[39m=\u001b[39m svm\u001b[39m.\u001b[39;49mpredict(X)\n",
      "\u001b[1;31mAttributeError\u001b[0m: module 'sklearn.svm' has no attribute 'predict'"
     ]
    }
   ],
   "source": [
    "#svm_samson.score(s_X_test, s_y_test)\n",
    "Xout = svm.predict(X)"
   ]
  },
  {
   "cell_type": "code",
   "execution_count": null,
   "metadata": {},
   "outputs": [
    {
     "data": {
      "text/plain": [
       "<matplotlib.colorbar.Colorbar at 0x190af8c8dc0>"
      ]
     },
     "execution_count": 129,
     "metadata": {},
     "output_type": "execute_result"
    },
    {
     "data": {
      "image/png": "[encoded data removed]",
      "text/plain": [
       "<Figure size 640x480 with 2 Axes>"
      ]
     },
     "metadata": {},
     "output_type": "display_data"
    }
   ],
   "source": [
    "cm = confusion_matrix(y_true = y, y_pred = Xout, normalize='true')\n",
    "\n",
    "plt.imshow(cm, vmax=1, vmin=0) \n",
    "plt.ylabel('True')\n",
    "plt.xlabel('prediction')\n",
    "plt.colorbar()"
   ]
  },
  {
   "cell_type": "code",
   "execution_count": null,
   "metadata": {},
   "outputs": [
    {
     "data": {
      "text/plain": [
       "<matplotlib.image.AxesImage at 0x190af9f6fb0>"
      ]
     },
     "execution_count": 130,
     "metadata": {},
     "output_type": "execute_result"
    },
    {
     "data": {
      "image/png": "[encoded data removed]",
      "text/plain": [
       "<Figure size 640x480 with 1 Axes>"
      ]
     },
     "metadata": {},
     "output_type": "display_data"
    }
   ],
   "source": [
    "plt.imshow(jasper_labels.reshape((100,100)))"
   ]
  },
  {
   "cell_type": "code",
   "execution_count": 10,
   "metadata": {},
   "outputs": [
    {
     "name": "stdout",
     "output_type": "stream",
     "text": [
      "9025\n"
     ]
    }
   ],
   "source": [
    "new_new_samson = reshape_sj(samson)\n",
    "\n",
    "X = new_new_samson.transpose(0,2,1).reshape((-1,156))\n",
    "X = preprocessing.scale(X, axis=0)\n",
    "print(len(X))\n",
    "\n",
    "y = samson_labels.flatten()\n",
    "\n"
   ]
  },
  {
   "cell_type": "code",
   "execution_count": 11,
   "metadata": {},
   "outputs": [
    {
     "data": {
      "text/html": [
       "<style>#sk-container-id-1 {color: black;background-color: white;}#sk-container-id-1 pre{padding: 0;}#sk-container-id-1 div.sk-toggleable {background-color: white;}#sk-container-id-1 label.sk-toggleable__label {cursor: pointer;display: block;width: 100%;margin-bottom: 0;padding: 0.3em;box-sizing: border-box;text-align: center;}#sk-container-id-1 label.sk-toggleable__label-arrow:before {content: \"▸\";float: left;margin-right: 0.25em;color: #696969;}#sk-container-id-1 label.sk-toggleable__label-arrow:hover:before {color: black;}#sk-container-id-1 div.sk-estimator:hover label.sk-toggleable__label-arrow:before {color: black;}#sk-container-id-1 div.sk-toggleable__content {max-height: 0;max-width: 0;overflow: hidden;text-align: left;background-color: #f0f8ff;}#sk-container-id-1 div.sk-toggleable__content pre {margin: 0.2em;color: black;border-radius: 0.25em;background-color: #f0f8ff;}#sk-container-id-1 input.sk-toggleable__control:checked~div.sk-toggleable__content {max-height: 200px;max-width: 100%;overflow: auto;}#sk-container-id-1 input.sk-toggleable__control:checked~label.sk-toggleable__label-arrow:before {content: \"▾\";}#sk-container-id-1 div.sk-estimator input.sk-toggleable__control:checked~label.sk-toggleable__label {background-color: #d4ebff;}#sk-container-id-1 div.sk-label input.sk-toggleable__control:checked~label.sk-toggleable__label {background-color: #d4ebff;}#sk-container-id-1 input.sk-hidden--visually {border: 0;clip: rect(1px 1px 1px 1px);clip: rect(1px, 1px, 1px, 1px);height: 1px;margin: -1px;overflow: hidden;padding: 0;position: absolute;width: 1px;}#sk-container-id-1 div.sk-estimator {font-family: monospace;background-color: #f0f8ff;border: 1px dotted black;border-radius: 0.25em;box-sizing: border-box;margin-bottom: 0.5em;}#sk-container-id-1 div.sk-estimator:hover {background-color: #d4ebff;}#sk-container-id-1 div.sk-parallel-item::after {content: \"\";width: 100%;border-bottom: 1px solid gray;flex-grow: 1;}#sk-container-id-1 div.sk-label:hover label.sk-toggleable__label {background-color: #d4ebff;}#sk-container-id-1 div.sk-serial::before {content: \"\";position: absolute;border-left: 1px solid gray;box-sizing: border-box;top: 0;bottom: 0;left: 50%;z-index: 0;}#sk-container-id-1 div.sk-serial {display: flex;flex-direction: column;align-items: center;background-color: white;padding-right: 0.2em;padding-left: 0.2em;position: relative;}#sk-container-id-1 div.sk-item {position: relative;z-index: 1;}#sk-container-id-1 div.sk-parallel {display: flex;align-items: stretch;justify-content: center;background-color: white;position: relative;}#sk-container-id-1 div.sk-item::before, #sk-container-id-1 div.sk-parallel-item::before {content: \"\";position: absolute;border-left: 1px solid gray;box-sizing: border-box;top: 0;bottom: 0;left: 50%;z-index: -1;}#sk-container-id-1 div.sk-parallel-item {display: flex;flex-direction: column;z-index: 1;position: relative;background-color: white;}#sk-container-id-1 div.sk-parallel-item:first-child::after {align-self: flex-end;width: 50%;}#sk-container-id-1 div.sk-parallel-item:last-child::after {align-self: flex-start;width: 50%;}#sk-container-id-1 div.sk-parallel-item:only-child::after {width: 0;}#sk-container-id-1 div.sk-dashed-wrapped {border: 1px dashed gray;margin: 0 0.4em 0.5em 0.4em;box-sizing: border-box;padding-bottom: 0.4em;background-color: white;}#sk-container-id-1 div.sk-label label {font-family: monospace;font-weight: bold;display: inline-block;line-height: 1.2em;}#sk-container-id-1 div.sk-label-container {text-align: center;}#sk-container-id-1 div.sk-container {/* jupyter's `normalize.less` sets `[hidden] { display: none; }` but bootstrap.min.css set `[hidden] { display: none !important; }` so we also need the `!important` here to be able to override the default hidden behavior on the sphinx rendered scikit-learn.org. See: https://github.com/scikit-learn/scikit-learn/issues/21755 */display: inline-block !important;position: relative;}#sk-container-id-1 div.sk-text-repr-fallback {display: none;}</style><div id=\"sk-container-id-1\" class=\"sk-top-container\"><div class=\"sk-text-repr-fallback\"><pre>SVC()</pre><b>In a Jupyter environment, please rerun this cell to show the HTML representation or trust the notebook. <br />On GitHub, the HTML representation is unable to render, please try loading this page with nbviewer.org.</b></div><div class=\"sk-container\" hidden><div class=\"sk-item\"><div class=\"sk-estimator sk-toggleable\"><input class=\"sk-toggleable__control sk-hidden--visually\" id=\"sk-estimator-id-1\" type=\"checkbox\" checked><label for=\"sk-estimator-id-1\" class=\"sk-toggleable__label sk-toggleable__label-arrow\">SVC</label><div class=\"sk-toggleable__content\"><pre>SVC()</pre></div></div></div></div></div>"
      ],
      "text/plain": [
       "SVC()"
      ]
     },
     "execution_count": 11,
     "metadata": {},
     "output_type": "execute_result"
    }
   ],
   "source": [
    "#Desion tree implementation \n",
    "train = copy.deepcopy(X)\n",
    "labels = copy.deepcopy(samson_labels)\n",
    "\n",
    "labels[labels == 1] = 0 \n",
    "svm_al = SVC(kernel=\"rbf\")\n",
    "svm_al.fit(train, labels.flatten())\n",
    "\n",
    "x_train = train[samson_labels != 2]\n",
    "labels2 = samson_labels[samson_labels != 2]\n",
    "\n",
    "svm_be = SVC(kernel=\"rbf\")\n",
    "svm_be.fit(x_train, labels2)"
   ]
  },
  {
   "cell_type": "code",
   "execution_count": 49,
   "metadata": {},
   "outputs": [],
   "source": [
    "# split samson into train test sets\n",
    "X_train, X_test, y_train, y_test = train_test_split(X,y, test_size=0.999, random_state=1)"
   ]
  },
  {
   "cell_type": "code",
   "execution_count": 53,
   "metadata": {},
   "outputs": [
    {
     "name": "stdout",
     "output_type": "stream",
     "text": [
      "0.9904709141274238\n",
      "0.9802424786708577\n"
     ]
    }
   ],
   "source": [
    "# Test the predicted yout data vs the true y data. \n",
    "yout = svm_al.predict(train)\n",
    "yout2 = svm_be.predict(x_train)\n",
    "\n",
    "print((yout==labels).sum()/len(labels))\n",
    "#(yout4==y[y != 2]).sum()/len(y[y != 2])\n",
    "print((yout2 == labels2).sum()/len(labels2))"
   ]
  },
  {
   "cell_type": "code",
   "execution_count": 44,
   "metadata": {},
   "outputs": [
    {
     "data": {
      "text/plain": [
       "[1, 0]"
      ]
     },
     "execution_count": 44,
     "metadata": {},
     "output_type": "execute_result"
    }
   ],
   "source": [
    "classesInLabels(yout)"
   ]
  },
  {
   "cell_type": "code",
   "execution_count": 54,
   "metadata": {},
   "outputs": [
    {
     "data": {
      "text/plain": [
       "<sklearn.metrics._plot.confusion_matrix.ConfusionMatrixDisplay at 0x1879416d8d0>"
      ]
     },
     "execution_count": 54,
     "metadata": {},
     "output_type": "execute_result"
    },
    {
     "data": {
      "image/png": "[encoded data removed]",
      "text/plain": [
       "<Figure size 640x480 with 2 Axes>"
      ]
     },
     "metadata": {},
     "output_type": "display_data"
    }
   ],
   "source": [
    "name_classes = [\"Ground\", \"Water\"]\n",
    "\n",
    "\n",
    "cm = confusion_matrix(labels,yout, normalize=\"true\") \n",
    "cmd_obj = ConfusionMatrixDisplay(cm, display_labels=name_classes)\n",
    "cmd_obj.plot()"
   ]
  },
  {
   "cell_type": "code",
   "execution_count": 21,
   "metadata": {},
   "outputs": [
    {
     "name": "stdout",
     "output_type": "stream",
     "text": [
      "9025\n",
      "6681\n",
      "[2, 0]\n",
      "[0, 1]\n",
      "86\n",
      "6681\n"
     ]
    }
   ],
   "source": [
    "print(len(yout))\n",
    "print(len(yout2))\n",
    "\n",
    "print(classesInLabels(yout))\n",
    "print(classesInLabels(yout2))\n",
    "\n",
    "#print(len(yout[yout == 0]))\n",
    "\n",
    "count = len(yout2) - len(yout[yout == 0]) \n",
    "print(count)\n",
    "\n",
    "jump_over = 0\n",
    "\n",
    "for i in range(len(yout)): \n",
    "    if(yout[i] == 0): \n",
    "        if(jump_over < 10): \n",
    "            yout[i] = yout2[jump_over]\n",
    "            jump_over += 1 \n",
    "            count += 1\n",
    "        else: \n",
    "            yout[i] = yout2[count]\n",
    "            count += 1\n",
    "\n",
    "print(count)"
   ]
  },
  {
   "cell_type": "code",
   "execution_count": 32,
   "metadata": {},
   "outputs": [
    {
     "ename": "ValueError",
     "evalue": "The number of FixedLocator locations (3), usually from a call to set_ticks, does not match the number of ticklabels (2).",
     "output_type": "error",
     "traceback": [
      "\u001b[1;31m---------------------------------------------------------------------------\u001b[0m",
      "\u001b[1;31mValueError\u001b[0m                                Traceback (most recent call last)",
      "Cell \u001b[1;32mIn [32], line 6\u001b[0m\n\u001b[0;32m      4\u001b[0m cm \u001b[39m=\u001b[39m confusion_matrix(y,yout, normalize\u001b[39m=\u001b[39m\u001b[39m\"\u001b[39m\u001b[39mtrue\u001b[39m\u001b[39m\"\u001b[39m) \n\u001b[0;32m      5\u001b[0m cmd_obj \u001b[39m=\u001b[39m ConfusionMatrixDisplay(cm, display_labels\u001b[39m=\u001b[39mname_classes)\n\u001b[1;32m----> 6\u001b[0m cmd_obj\u001b[39m.\u001b[39;49mplot()\n",
      "File \u001b[1;32m~\\AppData\\Local\\Packages\\PythonSoftwareFoundation.Python.3.10_qbz5n2kfra8p0\\LocalCache\\local-packages\\Python310\\site-packages\\sklearn\\metrics\\_plot\\confusion_matrix.py:172\u001b[0m, in \u001b[0;36mConfusionMatrixDisplay.plot\u001b[1;34m(self, include_values, cmap, xticks_rotation, values_format, ax, colorbar, im_kw)\u001b[0m\n\u001b[0;32m    170\u001b[0m \u001b[39mif\u001b[39;00m colorbar:\n\u001b[0;32m    171\u001b[0m     fig\u001b[39m.\u001b[39mcolorbar(\u001b[39mself\u001b[39m\u001b[39m.\u001b[39mim_, ax\u001b[39m=\u001b[39max)\n\u001b[1;32m--> 172\u001b[0m ax\u001b[39m.\u001b[39;49mset(\n\u001b[0;32m    173\u001b[0m     xticks\u001b[39m=\u001b[39;49mnp\u001b[39m.\u001b[39;49marange(n_classes),\n\u001b[0;32m    174\u001b[0m     yticks\u001b[39m=\u001b[39;49mnp\u001b[39m.\u001b[39;49marange(n_classes),\n\u001b[0;32m    175\u001b[0m     xticklabels\u001b[39m=\u001b[39;49mdisplay_labels,\n\u001b[0;32m    176\u001b[0m     yticklabels\u001b[39m=\u001b[39;49mdisplay_labels,\n\u001b[0;32m    177\u001b[0m     ylabel\u001b[39m=\u001b[39;49m\u001b[39m\"\u001b[39;49m\u001b[39mTrue label\u001b[39;49m\u001b[39m\"\u001b[39;49m,\n\u001b[0;32m    178\u001b[0m     xlabel\u001b[39m=\u001b[39;49m\u001b[39m\"\u001b[39;49m\u001b[39mPredicted label\u001b[39;49m\u001b[39m\"\u001b[39;49m,\n\u001b[0;32m    179\u001b[0m )\n\u001b[0;32m    181\u001b[0m ax\u001b[39m.\u001b[39mset_ylim((n_classes \u001b[39m-\u001b[39m \u001b[39m0.5\u001b[39m, \u001b[39m-\u001b[39m\u001b[39m0.5\u001b[39m))\n\u001b[0;32m    182\u001b[0m plt\u001b[39m.\u001b[39msetp(ax\u001b[39m.\u001b[39mget_xticklabels(), rotation\u001b[39m=\u001b[39mxticks_rotation)\n",
      "File \u001b[1;32m~\\AppData\\Local\\Packages\\PythonSoftwareFoundation.Python.3.10_qbz5n2kfra8p0\\LocalCache\\local-packages\\Python310\\site-packages\\matplotlib\\artist.py:117\u001b[0m, in \u001b[0;36mArtist.__init_subclass__.<locals>.<lambda>\u001b[1;34m(self, **kwargs)\u001b[0m\n\u001b[0;32m    109\u001b[0m \u001b[39mif\u001b[39;00m \u001b[39mnot\u001b[39;00m \u001b[39mhasattr\u001b[39m(\u001b[39mcls\u001b[39m\u001b[39m.\u001b[39mset, \u001b[39m'\u001b[39m\u001b[39m_autogenerated_signature\u001b[39m\u001b[39m'\u001b[39m):\n\u001b[0;32m    110\u001b[0m     \u001b[39m# Don't overwrite cls.set if the subclass or one of its parents\u001b[39;00m\n\u001b[0;32m    111\u001b[0m     \u001b[39m# has defined a set method set itself.\u001b[39;00m\n\u001b[0;32m    112\u001b[0m     \u001b[39m# If there was no explicit definition, cls.set is inherited from\u001b[39;00m\n\u001b[0;32m    113\u001b[0m     \u001b[39m# the hierarchy of auto-generated set methods, which hold the\u001b[39;00m\n\u001b[0;32m    114\u001b[0m     \u001b[39m# flag _autogenerated_signature.\u001b[39;00m\n\u001b[0;32m    115\u001b[0m     \u001b[39mreturn\u001b[39;00m\n\u001b[1;32m--> 117\u001b[0m \u001b[39mcls\u001b[39m\u001b[39m.\u001b[39mset \u001b[39m=\u001b[39m \u001b[39mlambda\u001b[39;00m \u001b[39mself\u001b[39m, \u001b[39m*\u001b[39m\u001b[39m*\u001b[39mkwargs: Artist\u001b[39m.\u001b[39mset(\u001b[39mself\u001b[39m, \u001b[39m*\u001b[39m\u001b[39m*\u001b[39mkwargs)\n\u001b[0;32m    118\u001b[0m \u001b[39mcls\u001b[39m\u001b[39m.\u001b[39mset\u001b[39m.\u001b[39m\u001b[39m__name__\u001b[39m \u001b[39m=\u001b[39m \u001b[39m\"\u001b[39m\u001b[39mset\u001b[39m\u001b[39m\"\u001b[39m\n\u001b[0;32m    119\u001b[0m \u001b[39mcls\u001b[39m\u001b[39m.\u001b[39mset\u001b[39m.\u001b[39m\u001b[39m__qualname__\u001b[39m \u001b[39m=\u001b[39m \u001b[39mf\u001b[39m\u001b[39m\"\u001b[39m\u001b[39m{\u001b[39;00m\u001b[39mcls\u001b[39m\u001b[39m.\u001b[39m\u001b[39m__qualname__\u001b[39m\u001b[39m}\u001b[39;00m\u001b[39m.set\u001b[39m\u001b[39m\"\u001b[39m\n",
      "File \u001b[1;32m~\\AppData\\Local\\Packages\\PythonSoftwareFoundation.Python.3.10_qbz5n2kfra8p0\\LocalCache\\local-packages\\Python310\\site-packages\\matplotlib\\artist.py:1194\u001b[0m, in \u001b[0;36mArtist.set\u001b[1;34m(self, **kwargs)\u001b[0m\n\u001b[0;32m   1190\u001b[0m \u001b[39mdef\u001b[39;00m \u001b[39mset\u001b[39m(\u001b[39mself\u001b[39m, \u001b[39m*\u001b[39m\u001b[39m*\u001b[39mkwargs):\n\u001b[0;32m   1191\u001b[0m     \u001b[39m# docstring and signature are auto-generated via\u001b[39;00m\n\u001b[0;32m   1192\u001b[0m     \u001b[39m# Artist._update_set_signature_and_docstring() at the end of the\u001b[39;00m\n\u001b[0;32m   1193\u001b[0m     \u001b[39m# module.\u001b[39;00m\n\u001b[1;32m-> 1194\u001b[0m     \u001b[39mreturn\u001b[39;00m \u001b[39mself\u001b[39;49m\u001b[39m.\u001b[39;49m_internal_update(cbook\u001b[39m.\u001b[39;49mnormalize_kwargs(kwargs, \u001b[39mself\u001b[39;49m))\n",
      "File \u001b[1;32m~\\AppData\\Local\\Packages\\PythonSoftwareFoundation.Python.3.10_qbz5n2kfra8p0\\LocalCache\\local-packages\\Python310\\site-packages\\matplotlib\\artist.py:1186\u001b[0m, in \u001b[0;36mArtist._internal_update\u001b[1;34m(self, kwargs)\u001b[0m\n\u001b[0;32m   1179\u001b[0m \u001b[39mdef\u001b[39;00m \u001b[39m_internal_update\u001b[39m(\u001b[39mself\u001b[39m, kwargs):\n\u001b[0;32m   1180\u001b[0m     \u001b[39m\"\"\"\u001b[39;00m\n\u001b[0;32m   1181\u001b[0m \u001b[39m    Update artist properties without prenormalizing them, but generating\u001b[39;00m\n\u001b[0;32m   1182\u001b[0m \u001b[39m    errors as if calling `set`.\u001b[39;00m\n\u001b[0;32m   1183\u001b[0m \n\u001b[0;32m   1184\u001b[0m \u001b[39m    The lack of prenormalization is to maintain backcompatibility.\u001b[39;00m\n\u001b[0;32m   1185\u001b[0m \u001b[39m    \"\"\"\u001b[39;00m\n\u001b[1;32m-> 1186\u001b[0m     \u001b[39mreturn\u001b[39;00m \u001b[39mself\u001b[39;49m\u001b[39m.\u001b[39;49m_update_props(\n\u001b[0;32m   1187\u001b[0m         kwargs, \u001b[39m\"\u001b[39;49m\u001b[39m{cls.__name__}\u001b[39;49;00m\u001b[39m.set() got an unexpected keyword argument \u001b[39;49m\u001b[39m\"\u001b[39;49m\n\u001b[0;32m   1188\u001b[0m         \u001b[39m\"\u001b[39;49m\u001b[39m{prop_name!r}\u001b[39;49;00m\u001b[39m\"\u001b[39;49m)\n",
      "File \u001b[1;32m~\\AppData\\Local\\Packages\\PythonSoftwareFoundation.Python.3.10_qbz5n2kfra8p0\\LocalCache\\local-packages\\Python310\\site-packages\\matplotlib\\artist.py:1162\u001b[0m, in \u001b[0;36mArtist._update_props\u001b[1;34m(self, props, errfmt)\u001b[0m\n\u001b[0;32m   1159\u001b[0m             \u001b[39mif\u001b[39;00m \u001b[39mnot\u001b[39;00m callable(func):\n\u001b[0;32m   1160\u001b[0m                 \u001b[39mraise\u001b[39;00m \u001b[39mAttributeError\u001b[39;00m(\n\u001b[0;32m   1161\u001b[0m                     errfmt\u001b[39m.\u001b[39mformat(\u001b[39mcls\u001b[39m\u001b[39m=\u001b[39m\u001b[39mtype\u001b[39m(\u001b[39mself\u001b[39m), prop_name\u001b[39m=\u001b[39mk))\n\u001b[1;32m-> 1162\u001b[0m             ret\u001b[39m.\u001b[39mappend(func(v))\n\u001b[0;32m   1163\u001b[0m \u001b[39mif\u001b[39;00m ret:\n\u001b[0;32m   1164\u001b[0m     \u001b[39mself\u001b[39m\u001b[39m.\u001b[39mpchanged()\n",
      "File \u001b[1;32m~\\AppData\\Local\\Packages\\PythonSoftwareFoundation.Python.3.10_qbz5n2kfra8p0\\LocalCache\\local-packages\\Python310\\site-packages\\matplotlib\\axes\\_base.py:73\u001b[0m, in \u001b[0;36m_axis_method_wrapper.__set_name__.<locals>.wrapper\u001b[1;34m(self, *args, **kwargs)\u001b[0m\n\u001b[0;32m     72\u001b[0m \u001b[39mdef\u001b[39;00m \u001b[39mwrapper\u001b[39m(\u001b[39mself\u001b[39m, \u001b[39m*\u001b[39margs, \u001b[39m*\u001b[39m\u001b[39m*\u001b[39mkwargs):\n\u001b[1;32m---> 73\u001b[0m     \u001b[39mreturn\u001b[39;00m get_method(\u001b[39mself\u001b[39m)(\u001b[39m*\u001b[39margs, \u001b[39m*\u001b[39m\u001b[39m*\u001b[39mkwargs)\n",
      "File \u001b[1;32m~\\AppData\\Local\\Packages\\PythonSoftwareFoundation.Python.3.10_qbz5n2kfra8p0\\LocalCache\\local-packages\\Python310\\site-packages\\matplotlib\\axis.py:1968\u001b[0m, in \u001b[0;36mAxis._set_ticklabels\u001b[1;34m(self, labels, fontdict, minor, **kwargs)\u001b[0m\n\u001b[0;32m   1966\u001b[0m \u001b[39mif\u001b[39;00m fontdict \u001b[39mis\u001b[39;00m \u001b[39mnot\u001b[39;00m \u001b[39mNone\u001b[39;00m:\n\u001b[0;32m   1967\u001b[0m     kwargs\u001b[39m.\u001b[39mupdate(fontdict)\n\u001b[1;32m-> 1968\u001b[0m \u001b[39mreturn\u001b[39;00m \u001b[39mself\u001b[39m\u001b[39m.\u001b[39mset_ticklabels(labels, minor\u001b[39m=\u001b[39mminor, \u001b[39m*\u001b[39m\u001b[39m*\u001b[39mkwargs)\n",
      "File \u001b[1;32m~\\AppData\\Local\\Packages\\PythonSoftwareFoundation.Python.3.10_qbz5n2kfra8p0\\LocalCache\\local-packages\\Python310\\site-packages\\matplotlib\\axis.py:1890\u001b[0m, in \u001b[0;36mAxis.set_ticklabels\u001b[1;34m(self, ticklabels, minor, **kwargs)\u001b[0m\n\u001b[0;32m   1886\u001b[0m \u001b[39mif\u001b[39;00m \u001b[39misinstance\u001b[39m(locator, mticker\u001b[39m.\u001b[39mFixedLocator):\n\u001b[0;32m   1887\u001b[0m     \u001b[39m# Passing [] as a list of ticklabels is often used as a way to\u001b[39;00m\n\u001b[0;32m   1888\u001b[0m     \u001b[39m# remove all tick labels, so only error for > 0 ticklabels\u001b[39;00m\n\u001b[0;32m   1889\u001b[0m     \u001b[39mif\u001b[39;00m \u001b[39mlen\u001b[39m(locator\u001b[39m.\u001b[39mlocs) \u001b[39m!=\u001b[39m \u001b[39mlen\u001b[39m(ticklabels) \u001b[39mand\u001b[39;00m \u001b[39mlen\u001b[39m(ticklabels) \u001b[39m!=\u001b[39m \u001b[39m0\u001b[39m:\n\u001b[1;32m-> 1890\u001b[0m         \u001b[39mraise\u001b[39;00m \u001b[39mValueError\u001b[39;00m(\n\u001b[0;32m   1891\u001b[0m             \u001b[39m\"\u001b[39m\u001b[39mThe number of FixedLocator locations\u001b[39m\u001b[39m\"\u001b[39m\n\u001b[0;32m   1892\u001b[0m             \u001b[39mf\u001b[39m\u001b[39m\"\u001b[39m\u001b[39m (\u001b[39m\u001b[39m{\u001b[39;00m\u001b[39mlen\u001b[39m(locator\u001b[39m.\u001b[39mlocs)\u001b[39m}\u001b[39;00m\u001b[39m), usually from a call to\u001b[39m\u001b[39m\"\u001b[39m\n\u001b[0;32m   1893\u001b[0m             \u001b[39m\"\u001b[39m\u001b[39m set_ticks, does not match\u001b[39m\u001b[39m\"\u001b[39m\n\u001b[0;32m   1894\u001b[0m             \u001b[39mf\u001b[39m\u001b[39m\"\u001b[39m\u001b[39m the number of ticklabels (\u001b[39m\u001b[39m{\u001b[39;00m\u001b[39mlen\u001b[39m(ticklabels)\u001b[39m}\u001b[39;00m\u001b[39m).\u001b[39m\u001b[39m\"\u001b[39m)\n\u001b[0;32m   1895\u001b[0m     tickd \u001b[39m=\u001b[39m {loc: lab \u001b[39mfor\u001b[39;00m loc, lab \u001b[39min\u001b[39;00m \u001b[39mzip\u001b[39m(locator\u001b[39m.\u001b[39mlocs, ticklabels)}\n\u001b[0;32m   1896\u001b[0m     func \u001b[39m=\u001b[39m functools\u001b[39m.\u001b[39mpartial(\u001b[39mself\u001b[39m\u001b[39m.\u001b[39m_format_with_dict, tickd)\n",
      "\u001b[1;31mValueError\u001b[0m: The number of FixedLocator locations (3), usually from a call to set_ticks, does not match the number of ticklabels (2)."
     ]
    },
    {
     "data": {
      "image/png": "[encoded data removed]",
      "text/plain": [
       "<Figure size 640x480 with 2 Axes>"
      ]
     },
     "metadata": {},
     "output_type": "display_data"
    }
   ],
   "source": [
    "name_classes = [\"Ground\", \"Water\"]\n",
    "\n",
    "\n",
    "cm = confusion_matrix(y,yout, normalize=\"true\") \n",
    "cmd_obj = ConfusionMatrixDisplay(cm, display_labels=name_classes)\n",
    "cmd_obj.plot()"
   ]
  },
  {
   "cell_type": "code",
   "execution_count": 23,
   "metadata": {},
   "outputs": [
    {
     "data": {
      "text/plain": [
       "<matplotlib.colorbar.Colorbar at 0x187a6d34370>"
      ]
     },
     "execution_count": 23,
     "metadata": {},
     "output_type": "execute_result"
    },
    {
     "data": {
      "image/png": "[encoded data removed]",
      "text/plain": [
       "<Figure size 640x480 with 2 Axes>"
      ]
     },
     "metadata": {},
     "output_type": "display_data"
    }
   ],
   "source": [
    "cm = confusion_matrix(y_true = y, y_pred = yout, normalize='true')\n",
    "\n",
    "plt.imshow(cm, vmax=1, vmin=0) \n",
    "plt.ylabel('True')\n",
    "plt.xlabel('prediction')\n",
    "plt.colorbar()"
   ]
  },
  {
   "cell_type": "code",
   "execution_count": 55,
   "metadata": {},
   "outputs": [
    {
     "data": {
      "text/plain": [
       "<matplotlib.image.AxesImage at 0x187aba697e0>"
      ]
     },
     "execution_count": 55,
     "metadata": {},
     "output_type": "execute_result"
    },
    {
     "data": {
      "image/png": "[encoded data removed]",
      "text/plain": [
       "<Figure size 640x480 with 1 Axes>"
      ]
     },
     "metadata": {},
     "output_type": "display_data"
    }
   ],
   "source": [
    "plt.imshow(yout.reshape((95,95)))"
   ]
  },
  {
   "cell_type": "code",
   "execution_count": 25,
   "metadata": {},
   "outputs": [
    {
     "data": {
      "text/plain": [
       "<matplotlib.image.AxesImage at 0x18793f3ba90>"
      ]
     },
     "execution_count": 25,
     "metadata": {},
     "output_type": "execute_result"
    },
    {
     "data": {
      "image/png": "[encoded data removed]",
      "text/plain": [
       "<Figure size 640x480 with 1 Axes>"
      ]
     },
     "metadata": {},
     "output_type": "display_data"
    }
   ],
   "source": [
    "plt.imshow(y.reshape((95,95)))"
   ]
  },
  {
   "cell_type": "code",
   "execution_count": null,
   "metadata": {},
   "outputs": [
    {
     "data": {
      "text/plain": [
       "0.9233240997229917"
      ]
     },
     "execution_count": 583,
     "metadata": {},
     "output_type": "execute_result"
    }
   ],
   "source": [
    "# Test the predicted yout data vs the true y data. \n",
    "(yout==y).sum()/len(y)"
   ]
  },
  {
   "cell_type": "code",
   "execution_count": 42,
   "metadata": {},
   "outputs": [
    {
     "name": "stdout",
     "output_type": "stream",
     "text": [
      "10000\n"
     ]
    }
   ],
   "source": [
    "new_jasper = reshape_sj(jasper)\n",
    "\n",
    "X = new_jasper.transpose(0,2,1).reshape((-1,198))\n",
    "X = preprocessing.scale(X, axis=0)\n",
    "print(len(X))\n",
    "\n",
    "y = jasper_labels.flatten()\n"
   ]
  },
  {
   "cell_type": "code",
   "execution_count": 35,
   "metadata": {},
   "outputs": [
    {
     "name": "stdout",
     "output_type": "stream",
     "text": [
      "[0, 2, 1, 3]\n"
     ]
    }
   ],
   "source": [
    "print(classesInLabels(y))"
   ]
  },
  {
   "cell_type": "code",
   "execution_count": 9,
   "metadata": {},
   "outputs": [
    {
     "data": {
      "text/plain": [
       "array([0, 1, 2, 3], dtype=int64)"
      ]
     },
     "execution_count": 9,
     "metadata": {},
     "output_type": "execute_result"
    }
   ],
   "source": [
    "classesInLabels(y)"
   ]
  },
  {
   "cell_type": "code",
   "execution_count": 15,
   "metadata": {},
   "outputs": [],
   "source": [
    "seperation = {0 : [[1,2,3], [4,5,6]] , 1 : [[[1,2], [3]],[[4], [5,6]]]}"
   ]
  },
  {
   "cell_type": "code",
   "execution_count": 4,
   "metadata": {},
   "outputs": [
    {
     "name": "stdout",
     "output_type": "stream",
     "text": [
      "2\n",
      "2\n"
     ]
    }
   ],
   "source": [
    "print(len(seperation[0]))\n",
    "print(len(seperation[1]))"
   ]
  },
  {
   "cell_type": "code",
   "execution_count": 120,
   "metadata": {},
   "outputs": [],
   "source": [
    "def SeperateDataLabels(data,labels, seperation): \n",
    "\n",
    "    train_data = copy.deepcopy(data)\n",
    "    train_labels = copy.deepcopy(labels)\n",
    "\n",
    "    #Check the labels and the seperation have the same number of classes or not \n",
    "    # Will remove the classes not in the seperation array. \n",
    "    \n",
    "    if(len(seperation) == 2): \n",
    "\n",
    "        classesInSeperation = []\n",
    "\n",
    "        for i in range(len(seperation)): \n",
    "            for j in range(len(seperation[i])): \n",
    "                if(not(seperation[i][j] in classesInSeperation)): \n",
    "                    classesInSeperation.append(seperation[i][j])\n",
    "\n",
    "        classesInSeperation.sort()\n",
    "        classesInSeperation = np.array(classesInSeperation)\n",
    "        cIL = np.array(classesInLabels(labels))\n",
    "\n",
    "        #Checks if the seperation and the labels have same amount of classes. If not return -1 ????\n",
    "        if(not(np.array_equal(cIL, classesInSeperation))): \n",
    "\n",
    "            for i in range(len(cIL)): \n",
    "                if(not(cIL[i] in classesInSeperation)):\n",
    "                    train_data = train_data[train_labels != cIL[i]]\n",
    "                    train_labels = train_labels[train_labels != cIL[i]]\n",
    "\n",
    "        for i in range(len(seperation)): \n",
    "            for j in range(len(seperation[i])):\n",
    "                if(seperation[i][j] != min(seperation[i])):\n",
    "                    \n",
    "                    train_labels[train_labels == seperation[i][j]] = min(seperation[i])\n",
    "        \n",
    "        return train_data, train_labels\n",
    "        \n",
    "    else: \n",
    "        print(\"The seperation needs to be 2 in length. For 1v1 classification\")\n",
    "        return -1\n"
   ]
  },
  {
   "cell_type": "code",
   "execution_count": 145,
   "metadata": {},
   "outputs": [],
   "source": [
    "def BranchDataLabels(data, labels, tree_branches): \n",
    "\n",
    "    \"\"\"\n",
    "    Takes in data and labes for the SVM Desion Tree. \n",
    "    Makes the labels for every branch 1v1 classes. \n",
    "\n",
    "    \"\"\"\n",
    "\n",
    "    if(len(tree_branches) > 0): \n",
    "        if(len(tree_branches[0]) == 2): \n",
    "\n",
    "            #Seperating the classes on the first branch of the data and the labels.\n",
    "            data_and_labels_branches = {0 : SeperateDataLabels(data, labels, tree_branches[0])}\n",
    "            \n",
    "            for i in range(1,len(tree_branches)): \n",
    "                data_and_labels = []\n",
    "                for j in range(len(tree_branches[i])): \n",
    "                    if(len(tree_branches[i][j]) == 2):\n",
    "                            data_and_labels.append(SeperateDataLabels(data,labels,tree_branches[i][j]))\n",
    "                    else: \n",
    "                        data_and_labels.append([])\n",
    "                data_and_labels_branches[i] = data_and_labels\n",
    "\n",
    "            return data_and_labels_branches\n",
    "        \n",
    "        else: \n",
    "            return -1"
   ]
  },
  {
   "cell_type": "code",
   "execution_count": 166,
   "metadata": {},
   "outputs": [],
   "source": [
    "def SvmBranchModelTrain(data_and_labels_branches): \n",
    "\n",
    "    svm_branch_models = {}\n",
    "\n",
    "    svm = SVC()\n",
    "    train_data, train_labels = data_and_labels_branches[0]\n",
    "    svm.fit(train_data, train_labels)\n",
    "    svm_branch_models[0] = svm\n",
    "\n",
    "    for i in range(1,len(data_and_labels_branches)): \n",
    "        svm_models = []\n",
    "        for j in range(len(data_and_labels_branches[i])): \n",
    "            if(len(data_and_labels_branches[i][j]) == 2): \n",
    "                train_data, train_labels = data_and_labels_branches[i][j]\n",
    "                svm = SVC()\n",
    "                svm.fit(train_data, train_labels)\n",
    "                svm_models.append(svm)\n",
    "            else: \n",
    "                svm_models.append(False)\n",
    "        svm_branch_models[i] = svm_models\n",
    "\n",
    "    return svm_branch_models\n"
   ]
  },
  {
   "cell_type": "code",
   "execution_count": 169,
   "metadata": {},
   "outputs": [],
   "source": [
    "def SvmBranchModelPredict(data_and_labels_branches, svm_branch_models): \n",
    "    predicted_branch_labels = {}\n",
    "\n",
    "    svm = svm_branch_models[0]\n",
    "    train_data, train_labels = data_and_labels_branches[0]\n",
    "    yout = svm.predict(train_data)\n",
    "    predicted_branch_labels[0] = yout\n",
    "\n",
    "    for i in range(1,len(data_and_labels_branches)): \n",
    "        predicted_labels = []\n",
    "        for j in range(len(data_and_labels_branches[i])): \n",
    "            if(len(data_and_labels_branches[i][j]) == 2): \n",
    "                train_data, train_labels = data_and_labels_branches[i][j]\n",
    "                svm = svm_branch_models[i][j]\n",
    "                yout = svm.predict(train_data)\n",
    "                predicted_labels.append(yout)\n",
    "            else: \n",
    "                predicted_labels.append([])\n",
    "        predicted_branch_labels[i] = predicted_labels\n",
    "\n",
    "    return predicted_branch_labels\n"
   ]
  },
  {
   "cell_type": "code",
   "execution_count": 316,
   "metadata": {},
   "outputs": [],
   "source": [
    "\n",
    "def combineLabels(predicted_labels, tree_branch): \n",
    "\n",
    "    pl = copy.deepcopy(predicted_labels)\n",
    "    \"\"\"\n",
    "    Combine the result from the desion tree. Should be automated. \n",
    "    \"\"\"\n",
    "    #if(len(pl) == len(tree_branch)): \n",
    "    for i in range(len(pl)-2,0,-1): \n",
    "        for j in range(len(pl[i])): \n",
    "            for k in range(len(tree_branch[i][j])): \n",
    "                if([min(tree_branch[i][j][k])] in tree_branch[i+1][j]):\n",
    "\n",
    "                    yout = pl[i][j] \n",
    "                    yout_sub_class = pl[i+1][j]\n",
    "\n",
    "                    class_diff = np.abs(len(yout[yout == min(tree_branch[i][j][k])]) - len(yout_sub_class))\n",
    "                    for x in range(len(yout)): \n",
    "                        if(yout[x] == min(tree_branch[i][j][k])):\n",
    "                            if(class_diff < len(yout_sub_class)):\n",
    "                                yout[x] = yout_sub_class[class_diff] \n",
    "                                class_diff += 1\n",
    "                    pl[i][j] = yout\n",
    "\n",
    "    #Collecting the labels from the second branch layer to the first layer. ¨\n",
    "    #Cobime the two second layers to the final labeling. \n",
    "    \n",
    "    yout_sub_1 = pl[1][0]\n",
    "    yout_sub_2 = pl[1][1]\n",
    "    yout = pl[0]\n",
    "\n",
    "    if(yout_sub_1 == []): \n",
    "        class_diff = np.abs(len(yout[yout == min(tree_branch[0][1])]) - len(yout_sub_2))\n",
    "        for x in range(len(yout)): \n",
    "            if(yout[x] == min(tree_branch[0][1])):\n",
    "                if(class_diff < len(yout_sub_2)):\n",
    "                    yout[x] = yout_sub_2[class_diff] \n",
    "                    class_diff += 1\n",
    "\n",
    "    elif(yout_sub_2 == []): \n",
    "        class_diff = np.abs(len(yout[yout == min(tree_branch[0][0])]) - len(yout_sub_1))\n",
    "        for x in range(len(yout)): \n",
    "            if(yout[x] == min(tree_branch[0][0])):\n",
    "                if(class_diff < len(yout_sub_1)):\n",
    "                    yout[x] = yout_sub_1[class_diff] \n",
    "                    class_diff += 1\n",
    "\n",
    "    else:\n",
    "        count_sub_1 = 0 \n",
    "        count_sub_2 = 0 \n",
    "        for x in range(len(yout)): \n",
    "            if(yout[x] == min(tree_branch[0][0])):\n",
    "                    yout[x] = yout_sub_1[count_sub_1] \n",
    "                    count_sub_1 += 1\n",
    "            if(yout[x] == min(tree_branch[0][1])): \n",
    "                    yout[x] = yout_sub_1[count_sub_2] \n",
    "                    count_sub_2 += 1\n",
    "\n",
    "    return yout"
   ]
  },
  {
   "cell_type": "code",
   "execution_count": 228,
   "metadata": {},
   "outputs": [
    {
     "name": "stdout",
     "output_type": "stream",
     "text": [
      "2\n",
      "1\n"
     ]
    }
   ],
   "source": [
    "for i in range(2,0, -1 ): \n",
    "    print(i)"
   ]
  },
  {
   "cell_type": "code",
   "execution_count": 317,
   "metadata": {},
   "outputs": [],
   "source": [
    "#seperation = {0 : [[1,2,3], [4,5,6]] , 1 : [[[1,2], [3]],[[4], [5,6]]], 2 : [[[1], [2]], [[5], [6]]]}\n",
    "#seperation = {0 : [[0,2,3],[1]], 1 : [[[0],[2,3]],[]], 2: [[[2],[3]],[]]}\n",
    "\n",
    "\n",
    "def SvmDesionTree(data, labels, tree_branches):\n",
    "    \"\"\"\n",
    "    Every branch in the SVM Desion Tree is aimed to be 1v1 classification. \n",
    "    \"\"\"\n",
    "\n",
    "    #Chekcs if the tree branches are valid by being over 1 in length \n",
    "    data_and_labels_branches = BranchDataLabels(data, labels, tree_branches)\n",
    "    svm_branch_models = SvmBranchModelTrain(data_and_labels_branches)\n",
    "    predicted_branch_labels = SvmBranchModelPredict(data_and_labels_branches, svm_branch_models)\n",
    "    pl = combineLabels(predicted_branch_labels, tree_branches)\n",
    "\n",
    "    #print(data_and_labels_branches[1][0])\n",
    "\n",
    "    #print(svm_branch_models)\n",
    "            \n",
    "    #print(len(predicted_branch_labels[1][0]))\n",
    "\n",
    "    #print(classesInLabels(pl[1][0]))\n",
    "\n",
    "    #print(predicted_branch_labels[1][0][0])\n",
    "\n",
    "    return pl"
   ]
  },
  {
   "cell_type": "code",
   "execution_count": 318,
   "metadata": {},
   "outputs": [
    {
     "name": "stdout",
     "output_type": "stream",
     "text": [
      "0.8237\n"
     ]
    },
    {
     "name": "stderr",
     "output_type": "stream",
     "text": [
      "C:\\Users\\jonas\\AppData\\Local\\Temp\\ipykernel_12756\\1355542885.py:31: DeprecationWarning: elementwise comparison failed; this will raise an error in the future.\n",
      "  if(yout_sub_1 == []):\n"
     ]
    }
   ],
   "source": [
    "tb = {0: [[0,2,3],[1]], 1: [[[0],[2,3]], []], 2 : [[[2],[3]], []]}\n",
    "\n",
    "\n",
    "pl = SvmDesionTree(X,y,tb)\n",
    "\n",
    "\n",
    "print((pl == y).sum()/len(y))"
   ]
  },
  {
   "cell_type": "code",
   "execution_count": 319,
   "metadata": {},
   "outputs": [
    {
     "name": "stdout",
     "output_type": "stream",
     "text": [
      "[0 1 2 3]\n"
     ]
    }
   ],
   "source": [
    "print(classesInLabels(pl))"
   ]
  },
  {
   "cell_type": "code",
   "execution_count": 252,
   "metadata": {},
   "outputs": [
    {
     "name": "stdout",
     "output_type": "stream",
     "text": [
      "True\n"
     ]
    }
   ],
   "source": [
    "print([2] in [[2], [3]])"
   ]
  },
  {
   "cell_type": "code",
   "execution_count": 271,
   "metadata": {},
   "outputs": [
    {
     "name": "stdout",
     "output_type": "stream",
     "text": [
      "5738\n",
      "6674\n"
     ]
    },
    {
     "data": {
      "text/plain": [
       "array([0, 1, 2, 3], dtype=int64)"
      ]
     },
     "execution_count": 271,
     "metadata": {},
     "output_type": "execute_result"
    }
   ],
   "source": [
    "count = np.abs(len(yout2) - len(yout[yout == 0]))\n",
    "print(count)\n",
    "\n",
    "jump_over = 0\n",
    "\n",
    "for i in range(len(yout)): \n",
    "    if(yout[i] == 0): \n",
    "        if(jump_over < 0): \n",
    "            yout[i] = yout2[jump_over]\n",
    "            jump_over += 1\n",
    "            count += 1\n",
    "        else: \n",
    "            yout[i] = yout2[count]\n",
    "            count += 1\n",
    "\n",
    "print(count)\n",
    "\n",
    "classesInLabels(yout)"
   ]
  },
  {
   "cell_type": "code",
   "execution_count": 192,
   "metadata": {},
   "outputs": [],
   "source": [
    "\n"
   ]
  },
  {
   "cell_type": "code",
   "execution_count": 247,
   "metadata": {},
   "outputs": [
    {
     "name": "stdout",
     "output_type": "stream",
     "text": [
      "0\n",
      "[[2], [3]]\n",
      "2\n",
      "[[2], [3]]\n",
      "[0 2]\n"
     ]
    }
   ],
   "source": []
  },
  {
   "cell_type": "code",
   "execution_count": 177,
   "metadata": {},
   "outputs": [
    {
     "name": "stdout",
     "output_type": "stream",
     "text": [
      "True\n"
     ]
    }
   ],
   "source": [
    "print([2] in [[2],[3]])"
   ]
  },
  {
   "cell_type": "code",
   "execution_count": 90,
   "metadata": {},
   "outputs": [],
   "source": [
    "#seperation = {0 : [[1,2,3], [4,5,6]] , 1 : [[[1,2], [3]],[[4], [5,6]]]}\n",
    "\n",
    "#print(seperation[0])\n",
    "\n",
    "seperation = [[0,2,3],[1]]\n",
    "\n",
    "stored_data, stored_labes = SeperateDataLabels(X,y,seperation)"
   ]
  },
  {
   "cell_type": "code",
   "execution_count": 87,
   "metadata": {},
   "outputs": [
    {
     "name": "stdout",
     "output_type": "stream",
     "text": [
      "[0 3]\n",
      "[0 1 2 3]\n",
      "4246\n"
     ]
    }
   ],
   "source": [
    "print(classesInLabels(stored_labes))\n",
    "print(classesInLabels(y))\n",
    "print(len(stored_labes))"
   ]
  },
  {
   "cell_type": "code",
   "execution_count": 45,
   "metadata": {},
   "outputs": [
    {
     "name": "stdout",
     "output_type": "stream",
     "text": [
      "[0 0 0 ... 0 0 0]\n"
     ]
    }
   ],
   "source": [
    "print(stored_labes)"
   ]
  },
  {
   "cell_type": "code",
   "execution_count": 184,
   "metadata": {},
   "outputs": [
    {
     "data": {
      "text/html": [
       "<style>#sk-container-id-7 {color: black;background-color: white;}#sk-container-id-7 pre{padding: 0;}#sk-container-id-7 div.sk-toggleable {background-color: white;}#sk-container-id-7 label.sk-toggleable__label {cursor: pointer;display: block;width: 100%;margin-bottom: 0;padding: 0.3em;box-sizing: border-box;text-align: center;}#sk-container-id-7 label.sk-toggleable__label-arrow:before {content: \"▸\";float: left;margin-right: 0.25em;color: #696969;}#sk-container-id-7 label.sk-toggleable__label-arrow:hover:before {color: black;}#sk-container-id-7 div.sk-estimator:hover label.sk-toggleable__label-arrow:before {color: black;}#sk-container-id-7 div.sk-toggleable__content {max-height: 0;max-width: 0;overflow: hidden;text-align: left;background-color: #f0f8ff;}#sk-container-id-7 div.sk-toggleable__content pre {margin: 0.2em;color: black;border-radius: 0.25em;background-color: #f0f8ff;}#sk-container-id-7 input.sk-toggleable__control:checked~div.sk-toggleable__content {max-height: 200px;max-width: 100%;overflow: auto;}#sk-container-id-7 input.sk-toggleable__control:checked~label.sk-toggleable__label-arrow:before {content: \"▾\";}#sk-container-id-7 div.sk-estimator input.sk-toggleable__control:checked~label.sk-toggleable__label {background-color: #d4ebff;}#sk-container-id-7 div.sk-label input.sk-toggleable__control:checked~label.sk-toggleable__label {background-color: #d4ebff;}#sk-container-id-7 input.sk-hidden--visually {border: 0;clip: rect(1px 1px 1px 1px);clip: rect(1px, 1px, 1px, 1px);height: 1px;margin: -1px;overflow: hidden;padding: 0;position: absolute;width: 1px;}#sk-container-id-7 div.sk-estimator {font-family: monospace;background-color: #f0f8ff;border: 1px dotted black;border-radius: 0.25em;box-sizing: border-box;margin-bottom: 0.5em;}#sk-container-id-7 div.sk-estimator:hover {background-color: #d4ebff;}#sk-container-id-7 div.sk-parallel-item::after {content: \"\";width: 100%;border-bottom: 1px solid gray;flex-grow: 1;}#sk-container-id-7 div.sk-label:hover label.sk-toggleable__label {background-color: #d4ebff;}#sk-container-id-7 div.sk-serial::before {content: \"\";position: absolute;border-left: 1px solid gray;box-sizing: border-box;top: 0;bottom: 0;left: 50%;z-index: 0;}#sk-container-id-7 div.sk-serial {display: flex;flex-direction: column;align-items: center;background-color: white;padding-right: 0.2em;padding-left: 0.2em;position: relative;}#sk-container-id-7 div.sk-item {position: relative;z-index: 1;}#sk-container-id-7 div.sk-parallel {display: flex;align-items: stretch;justify-content: center;background-color: white;position: relative;}#sk-container-id-7 div.sk-item::before, #sk-container-id-7 div.sk-parallel-item::before {content: \"\";position: absolute;border-left: 1px solid gray;box-sizing: border-box;top: 0;bottom: 0;left: 50%;z-index: -1;}#sk-container-id-7 div.sk-parallel-item {display: flex;flex-direction: column;z-index: 1;position: relative;background-color: white;}#sk-container-id-7 div.sk-parallel-item:first-child::after {align-self: flex-end;width: 50%;}#sk-container-id-7 div.sk-parallel-item:last-child::after {align-self: flex-start;width: 50%;}#sk-container-id-7 div.sk-parallel-item:only-child::after {width: 0;}#sk-container-id-7 div.sk-dashed-wrapped {border: 1px dashed gray;margin: 0 0.4em 0.5em 0.4em;box-sizing: border-box;padding-bottom: 0.4em;background-color: white;}#sk-container-id-7 div.sk-label label {font-family: monospace;font-weight: bold;display: inline-block;line-height: 1.2em;}#sk-container-id-7 div.sk-label-container {text-align: center;}#sk-container-id-7 div.sk-container {/* jupyter's `normalize.less` sets `[hidden] { display: none; }` but bootstrap.min.css set `[hidden] { display: none !important; }` so we also need the `!important` here to be able to override the default hidden behavior on the sphinx rendered scikit-learn.org. See: https://github.com/scikit-learn/scikit-learn/issues/21755 */display: inline-block !important;position: relative;}#sk-container-id-7 div.sk-text-repr-fallback {display: none;}</style><div id=\"sk-container-id-7\" class=\"sk-top-container\"><div class=\"sk-text-repr-fallback\"><pre>SVC(max_iter=100000.0)</pre><b>In a Jupyter environment, please rerun this cell to show the HTML representation or trust the notebook. <br />On GitHub, the HTML representation is unable to render, please try loading this page with nbviewer.org.</b></div><div class=\"sk-container\" hidden><div class=\"sk-item\"><div class=\"sk-estimator sk-toggleable\"><input class=\"sk-toggleable__control sk-hidden--visually\" id=\"sk-estimator-id-7\" type=\"checkbox\" checked><label for=\"sk-estimator-id-7\" class=\"sk-toggleable__label sk-toggleable__label-arrow\">SVC</label><div class=\"sk-toggleable__content\"><pre>SVC(max_iter=100000.0)</pre></div></div></div></div></div>"
      ],
      "text/plain": [
       "SVC(max_iter=100000.0)"
      ]
     },
     "execution_count": 184,
     "metadata": {},
     "output_type": "execute_result"
    }
   ],
   "source": [
    "\n",
    "\n",
    "#Desion tree implementation \n",
    "train = copy.deepcopy(X)\n",
    "train2 = copy.deepcopy(X)\n",
    "labels = copy.deepcopy(y)\n",
    "labels2 = copy.deepcopy(y)\n",
    "\n",
    "labels[labels == 2] = 0\n",
    "labels[labels == 3] = 0 \n",
    "\n",
    "y_labels2 = labels2[y != 1]\n",
    "x_train2 = train2[labels2 != 1]\n",
    "\n",
    "svm_ab = SVC(kernel=\"rbf\", max_iter=1e5, C=1000)\n",
    "svm_ab.fit(train, labels.flatten())\n",
    "\n",
    "svm_cd = SVC(kernel=\"rbf\", max_iter=1e5)\n",
    "svm_cd.fit(x_train2, y_labels2.flatten())\n",
    "\n"
   ]
  },
  {
   "cell_type": "code",
   "execution_count": 185,
   "metadata": {},
   "outputs": [
    {
     "name": "stdout",
     "output_type": "stream",
     "text": [
      "1.0\n"
     ]
    }
   ],
   "source": [
    "predicted_labels = svm_ab.predict(train)\n",
    "print((predicted_labels == labels).sum()/len(labels))"
   ]
  },
  {
   "cell_type": "code",
   "execution_count": 186,
   "metadata": {},
   "outputs": [
    {
     "data": {
      "text/plain": [
       "<matplotlib.image.AxesImage at 0x28ae500c580>"
      ]
     },
     "execution_count": 186,
     "metadata": {},
     "output_type": "execute_result"
    },
    {
     "data": {
      "image/png": "[encoded data removed]",
      "text/plain": [
       "<Figure size 640x480 with 1 Axes>"
      ]
     },
     "metadata": {},
     "output_type": "display_data"
    }
   ],
   "source": [
    "plt.imshow(predicted_labels.reshape((100,100)))"
   ]
  },
  {
   "cell_type": "code",
   "execution_count": 187,
   "metadata": {},
   "outputs": [
    {
     "data": {
      "text/plain": [
       "array([0, 2, 3], dtype=int64)"
      ]
     },
     "execution_count": 187,
     "metadata": {},
     "output_type": "execute_result"
    }
   ],
   "source": [
    "classesInLabels(y_labels2)"
   ]
  },
  {
   "cell_type": "code",
   "execution_count": 188,
   "metadata": {},
   "outputs": [],
   "source": [
    "# Test the predicted yout data vs the true y data. \n",
    "yout = svm_ab.predict(train)\n",
    "yout2 = svm_cd.predict(x_train2)\n"
   ]
  },
  {
   "cell_type": "code",
   "execution_count": 189,
   "metadata": {},
   "outputs": [
    {
     "name": "stdout",
     "output_type": "stream",
     "text": [
      "0\n",
      "6674\n"
     ]
    },
    {
     "data": {
      "text/plain": [
       "array([0, 1, 2, 3], dtype=int64)"
      ]
     },
     "execution_count": 189,
     "metadata": {},
     "output_type": "execute_result"
    }
   ],
   "source": [
    "count = np.abs(len(yout2) - len(yout[yout == 0]))\n",
    "print(count)\n",
    "\n",
    "jump_over = 0\n",
    "\n",
    "for i in range(len(yout)): \n",
    "    if(yout[i] == 0): \n",
    "        if(jump_over < 0): \n",
    "            yout[i] = yout2[jump_over]\n",
    "            jump_over += 1\n",
    "            count += 1\n",
    "        else: \n",
    "            yout[i] = yout2[count]\n",
    "            count += 1\n",
    "\n",
    "print(count)\n",
    "\n",
    "classesInLabels(yout)"
   ]
  },
  {
   "cell_type": "code",
   "execution_count": 190,
   "metadata": {},
   "outputs": [
    {
     "name": "stdout",
     "output_type": "stream",
     "text": [
      "0.9855\n"
     ]
    }
   ],
   "source": [
    "print((yout==labels2).sum()/len(labels2))"
   ]
  },
  {
   "cell_type": "code",
   "execution_count": 191,
   "metadata": {},
   "outputs": [
    {
     "data": {
      "text/plain": [
       "<matplotlib.image.AxesImage at 0x28ae5058ac0>"
      ]
     },
     "execution_count": 191,
     "metadata": {},
     "output_type": "execute_result"
    },
    {
     "data": {
      "image/png": "[encoded data removed]",
      "text/plain": [
       "<Figure size 640x480 with 1 Axes>"
      ]
     },
     "metadata": {},
     "output_type": "display_data"
    }
   ],
   "source": [
    "plt.imshow(yout.reshape((100,100)))"
   ]
  },
  {
   "cell_type": "markdown",
   "metadata": {},
   "source": []
  },
  {
   "cell_type": "code",
   "execution_count": 33,
   "metadata": {},
   "outputs": [
    {
     "data": {
      "text/plain": [
       "<matplotlib.image.AxesImage at 0x28ae665e8c0>"
      ]
     },
     "execution_count": 33,
     "metadata": {},
     "output_type": "execute_result"
    },
    {
     "data": {
      "image/png": "[encoded data removed]",
      "text/plain": [
       "<Figure size 640x480 with 1 Axes>"
      ]
     },
     "metadata": {},
     "output_type": "display_data"
    }
   ],
   "source": [
    "plt.imshow(labels2.reshape((100,100)))"
   ]
  },
  {
   "cell_type": "code",
   "execution_count": 34,
   "metadata": {},
   "outputs": [
    {
     "data": {
      "text/plain": [
       "<sklearn.metrics._plot.confusion_matrix.ConfusionMatrixDisplay at 0x28ae66a9f00>"
      ]
     },
     "execution_count": 34,
     "metadata": {},
     "output_type": "execute_result"
    },
    {
     "data": {
      "image/png": "[encoded data removed]",
      "text/plain": [
       "<Figure size 640x480 with 2 Axes>"
      ]
     },
     "metadata": {},
     "output_type": "display_data"
    }
   ],
   "source": [
    "#1 Road, 2# Soil, #3, Water, #4 Three\n",
    "\n",
    "name_classes = [\"Soil\", \"Water\", \"Three\", \"Road\"]\n",
    "\n",
    "\n",
    "cm = confusion_matrix(labels2,yout, normalize=\"true\") \n",
    "cmd_obj = ConfusionMatrixDisplay(cm, display_labels=name_classes)\n",
    "cmd_obj.plot()"
   ]
  },
  {
   "cell_type": "code",
   "execution_count": null,
   "metadata": {},
   "outputs": [],
   "source": []
  }
 ],
 "metadata": {
  "kernelspec": {
   "display_name": "Python 3.10.8 64-bit (microsoft store)",
   "language": "python",
   "name": "python3"
  },
  "language_info": {
   "codemirror_mode": {
    "name": "ipython",
    "version": 3
   },
   "file_extension": ".py",
   "mimetype": "text/x-python",
   "name": "python",
   "nbconvert_exporter": "python",
   "pygments_lexer": "ipython3",
   "version": "3.10.8"
  },
  "orig_nbformat": 4,
  "vscode": {
   "interpreter": {
    "hash": "059b92ebffe316512df3810dcdd9739bd5d694b60baa1e9e8136193b1cf34557"
   }
  }
 },
 "nbformat": 4,
 "nbformat_minor": 2
}
