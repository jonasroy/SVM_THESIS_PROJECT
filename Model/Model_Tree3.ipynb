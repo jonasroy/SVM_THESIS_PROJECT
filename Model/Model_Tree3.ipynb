{
 "cells": [
  {
   "cell_type": "code",
   "execution_count": 1,
   "metadata": {},
   "outputs": [],
   "source": [
    "#Imports \n",
    "import pip\n",
    "import glob, os\n",
    "from sklearn import svm \n",
    "import scipy.io as sc\n",
    "import numpy as np\n",
    "from HelperFunctions_ import write_dataset_to_file, split_dataset_paths, subFrame, preprocesing_data, combinePictures, combineModels, classesInLabels, combineLabelClasses, lessBands, reshape_sj\n",
    "from SVM_Desion_Tree import SvmDesionTree, SeperateDataLabels\n",
    "import sys \n",
    "from spectral import *\n",
    "\n",
    "import tables as tab\n",
    "import matplotlib.pyplot as plt\n",
    "from sklearn import preprocessing\n",
    "from sklearn.model_selection import train_test_split, cross_val_score\n",
    "from sklearn.svm import LinearSVC, SVC, OneClassSVM\n",
    "from sklearn.tree import DecisionTreeClassifier\n",
    "from sklearn.metrics import confusion_matrix, ConfusionMatrixDisplay\n",
    "from sklearn.semi_supervised import SelfTrainingClassifier\n",
    "from sklearn.ensemble import StackingClassifier\n",
    "import pandas as pd\n",
    "from sklearn import datasets\n",
    "import copy\n",
    "import spectral\n"
   ]
  },
  {
   "cell_type": "code",
   "execution_count": 2,
   "metadata": {},
   "outputs": [],
   "source": [
    "#Finding path names \n",
    "Mjosa_data = split_dataset_paths(\"../Datasets/2022_07_11_Mjosa/2022_07_11_Mjosa/\", [\"he5\", \"csv\", \"jpg\"])\n",
    "Andebu_data = split_dataset_paths(\"../Datasets/2021_07_21_Andebu/2021_07_21_Andebu/\", [\"he5\", \"csv\", \"jpg\"])\n",
    "Telemark_data = split_dataset_paths(\"../Datasets/2020_06_23_Telemarkskanalen/2020_06_23_Telemarkskanalen/\", [\"he5\", \"csv\", \"jpg\"])\n",
    "\n",
    "samson_data = split_dataset_paths(\"../Datasets/samson/\", [\"mat\"])\n",
    "jasper_data = split_dataset_paths(\"../Datasets/jasper/\", [\"mat\"])\n",
    "\n"
   ]
  },
  {
   "cell_type": "code",
   "execution_count": 3,
   "metadata": {},
   "outputs": [],
   "source": [
    "#Amount of dataset should be handled\n",
    "N_datasets = 4\n",
    "\n",
    "#Open files \n",
    "open_files_array = []\n",
    "for i in range(N_datasets):\n",
    "    file = tab.open_file(Mjosa_data[\"he5\"][i])\n",
    "    open_files_array.append(file.get_node(\"/HDFEOS/SWATHS/PRS_L1_HCO/\")['Data Fields']['VNIR_Cube'][:,5:,:])\n",
    "\n",
    "#Load the labels \n",
    "load_labels_array = []\n",
    "for i in range(N_datasets):\n",
    "    file = Mjosa_data[\"csv\"][i]\n",
    "    load_labels_array.append(np.loadtxt(file, dtype=np.ubyte))"
   ]
  },
  {
   "cell_type": "code",
   "execution_count": 4,
   "metadata": {},
   "outputs": [
    {
     "name": "stdout",
     "output_type": "stream",
     "text": [
      "1000000\n"
     ]
    }
   ],
   "source": [
    "data = open_files_array[0]\n",
    "labels = load_labels_array[0]\n",
    "print(len(labels.flatten()))"
   ]
  },
  {
   "cell_type": "code",
   "execution_count": 5,
   "metadata": {},
   "outputs": [],
   "source": [
    "samson = sc.loadmat(samson_data[\"mat\"][1])[\"V\"]\n",
    "samson_gt = sc.loadmat(samson_data[\"mat\"][0])\n",
    "samson_labels = np.argmax(samson_gt['A'].T.reshape((-1,3)), axis=1)\n",
    "\n",
    "jasper = sc.loadmat(jasper_data[\"mat\"][1])[\"Y\"]\n",
    "jasper_gt = sc.loadmat(jasper_data[\"mat\"][0])\n",
    "jasper_labels = np.argmax(jasper_gt['A'], axis=0)\n"
   ]
  },
  {
   "cell_type": "code",
   "execution_count": null,
   "metadata": {},
   "outputs": [],
   "source": [
    "\n"
   ]
  },
  {
   "cell_type": "code",
   "execution_count": 132,
   "metadata": {},
   "outputs": [],
   "source": [
    "d, l = subFrame(data, labels, 0, 50, 0, 50)"
   ]
  },
  {
   "cell_type": "code",
   "execution_count": 133,
   "metadata": {},
   "outputs": [],
   "source": [
    "X, y = preprocesing_data(d, l)"
   ]
  },
  {
   "cell_type": "code",
   "execution_count": 134,
   "metadata": {},
   "outputs": [
    {
     "name": "stdout",
     "output_type": "stream",
     "text": [
      "[0 1 2 3 5]\n"
     ]
    }
   ],
   "source": [
    "print(classesInLabels(y))"
   ]
  },
  {
   "cell_type": "code",
   "execution_count": 250,
   "metadata": {},
   "outputs": [],
   "source": [
    "from sklearn.svm import SVC\n",
    "from HelperFunctions_ import classesInLabels\n",
    "import numpy as np\n",
    "import copy\n",
    "\n",
    "def SeperateDataLabels(data,labels, seperation): \n",
    "\n",
    "    train_data = copy.deepcopy(data)\n",
    "    train_labels = copy.deepcopy(labels)\n",
    "\n",
    "    #Check the labels and the seperation have the same number of classes or not \n",
    "    # Will remove the classes not in the seperation array. \n",
    "    \n",
    "    if(len(seperation) == 2): \n",
    "\n",
    "        classesInSeperation = []\n",
    "\n",
    "        for i in range(len(seperation)): \n",
    "            for j in range(len(seperation[i])): \n",
    "                if(not(seperation[i][j] in classesInSeperation)): \n",
    "                    classesInSeperation.append(seperation[i][j])\n",
    "\n",
    "        classesInSeperation.sort()\n",
    "        classesInSeperation = np.array(classesInSeperation)\n",
    "        cIL = np.array(classesInLabels(labels))\n",
    "\n",
    "        #Checks if the seperation and the labels have same amount of classes. If not return -1 ????\n",
    "        if(not(np.array_equal(cIL, classesInSeperation))): \n",
    "\n",
    "            for i in range(len(cIL)): \n",
    "                if(not(cIL[i] in classesInSeperation)):\n",
    "                    train_data = train_data[train_labels != cIL[i]]\n",
    "                    train_labels = train_labels[train_labels != cIL[i]]\n",
    "\n",
    "        for i in range(len(seperation)): \n",
    "            for j in range(len(seperation[i])):\n",
    "                if(seperation[i][j] != min(seperation[i])):\n",
    "                    \n",
    "                    train_labels[train_labels == seperation[i][j]] = min(seperation[i])\n",
    "        \n",
    "        return train_data, train_labels\n",
    "        \n",
    "    else: \n",
    "        print(\"The seperation needs to be 2 in length. For 1v1 classification\")\n",
    "        return -1\n",
    "\n",
    "\n",
    "\n",
    "def BranchDataLabels(data, labels, tree_branches): \n",
    "\n",
    "    \"\"\"\n",
    "    Takes in data and labes for the SVM Desion Tree. \n",
    "    Makes the labels for every branch 1v1 classes. \n",
    "\n",
    "    \"\"\"\n",
    "\n",
    "    if(len(tree_branches) > 0): \n",
    "        if(len(tree_branches[0]) == 2): \n",
    "\n",
    "            #Seperating the classes on the first branch of the data and the labels.\n",
    "            data_and_labels_branches = {0 : SeperateDataLabels(data, labels, tree_branches[0])}\n",
    "            \n",
    "            for i in range(1,len(tree_branches)): \n",
    "                data_and_labels = []\n",
    "                for j in range(len(tree_branches[i])): \n",
    "                    if(len(tree_branches[i][j]) == 2):\n",
    "                            data_and_labels.append(SeperateDataLabels(data,labels,tree_branches[i][j]))\n",
    "                    else: \n",
    "                        data_and_labels.append([])\n",
    "                data_and_labels_branches[i] = data_and_labels\n",
    "\n",
    "            return data_and_labels_branches\n",
    "        \n",
    "        else: \n",
    "            return -1\n",
    "\n",
    "\n",
    "def SvmBranchModelTrain(data_and_labels_branches): \n",
    "\n",
    "    svm_branch_models = {}\n",
    "\n",
    "    svm = SVC()\n",
    "    train_data, train_labels = data_and_labels_branches[0]\n",
    "    svm.fit(train_data, train_labels)\n",
    "    svm_branch_models[0] = svm\n",
    "\n",
    "    for i in range(1,len(data_and_labels_branches)): \n",
    "        svm_models = []\n",
    "        for j in range(len(data_and_labels_branches[i])): \n",
    "            if(len(data_and_labels_branches[i][j]) == 2): \n",
    "                train_data, train_labels = data_and_labels_branches[i][j]\n",
    "                svm = SVC()\n",
    "                svm.fit(train_data, train_labels)\n",
    "                svm_models.append(svm)\n",
    "            else: \n",
    "                svm_models.append(False)\n",
    "        svm_branch_models[i] = svm_models\n",
    "\n",
    "    return svm_branch_models\n",
    "\n",
    "\n",
    "def SvmBranchModelTrainDefined(data_and_labels_branches, svm_branch_models): \n",
    "\n",
    "    svm_branch_models_ = {}\n",
    "\n",
    "    svm = svm_branch_models[0]\n",
    "    train_data, train_labels = data_and_labels_branches[0]\n",
    "    svm.fit(train_data, train_labels)\n",
    "    svm_branch_models_[0] = svm\n",
    "\n",
    "    for i in range(1,len(data_and_labels_branches)): \n",
    "        svm_models = []\n",
    "        for j in range(len(data_and_labels_branches[i])): \n",
    "            if(len(data_and_labels_branches[i][j]) == 2): \n",
    "                train_data, train_labels = data_and_labels_branches[i][j]\n",
    "                svm = copy.deepcopy(svm_branch_models[i][j]) \n",
    "                svm.fit(train_data, train_labels)\n",
    "                svm_models.append(svm)\n",
    "            else: \n",
    "                svm_models.append(False)\n",
    "        svm_branch_models_[i] = svm_models\n",
    "\n",
    "    return svm_branch_models_\n",
    "\n",
    "\n",
    "def SvmBranchModelPredict(data_and_labels_branches, svm_branch_models): \n",
    "    predicted_branch_labels = {}\n",
    "\n",
    "    svm = svm_branch_models[0]\n",
    "    train_data, train_labels = data_and_labels_branches[0]\n",
    "    yout = svm.predict(train_data)\n",
    "    predicted_branch_labels[0] = yout\n",
    "\n",
    "    for i in range(1,len(data_and_labels_branches)): \n",
    "        predicted_labels = []\n",
    "        for j in range(len(data_and_labels_branches[i])): \n",
    "            if(len(data_and_labels_branches[i][j]) == 2): \n",
    "                train_data, train_labels = data_and_labels_branches[i][j]\n",
    "                svm = svm_branch_models[i][j]\n",
    "                yout = svm.predict(train_data)\n",
    "                predicted_labels.append(yout)\n",
    "            else: \n",
    "                predicted_labels.append([])\n",
    "        predicted_branch_labels[i] = predicted_labels\n",
    "\n",
    "    return predicted_branch_labels\n",
    "\n",
    "def combineLabels(predicted_labels, tree_branch): \n",
    "\n",
    "    pl = copy.deepcopy(predicted_labels)\n",
    "    \"\"\"\n",
    "    Combine the result from the desion tree. Should be automated. \n",
    "    \"\"\"\n",
    "    #if(len(pl) == len(tree_branch)): \n",
    "    for i in range(len(pl)-2,0,-1): \n",
    "        for j in range(len(pl[i])): \n",
    "            for k in range(len(tree_branch[i][j])):\n",
    "                for l in range(len(tree_branch[i][j][k])): \n",
    "                    if(tree_branch[i+1][j]):\n",
    "                        try: \n",
    "                            if(min(tree_branch[i][j][k]) in tree_branch[i+1][j][l]):\n",
    "                                print(\"Fisken print\")\n",
    "                                yout = pl[i][j] \n",
    "                                yout_sub_class = pl[i+1][j]\n",
    "\n",
    "                                class_diff = np.abs(len(yout[yout == min(tree_branch[i][j][k])]) - len(yout_sub_class))\n",
    "                                for x in range(len(yout)): \n",
    "                                    if(yout[x] == min(tree_branch[i][j][k])):\n",
    "                                        if(class_diff < len(yout_sub_class)):\n",
    "                                            yout[x] = yout_sub_class[class_diff] \n",
    "                                            class_diff += 1\n",
    "                                pl[i][j] = yout\n",
    "                                \n",
    "                        except: \n",
    "                            None \n",
    "    \n",
    "\n",
    "    #Collecting the labels from the second branch layer to the first layer. ¨\n",
    "    #Cobime the two second layers to the final labeling. \n",
    "    \n",
    "    yout_sub_1 = pl[1][0]\n",
    "    yout_sub_2 = pl[1][1]\n",
    "\n",
    "    print(classesInLabels(yout_sub_1)) \n",
    "    #print(classesInLabels(yout_sub_2))\n",
    "\n",
    "    yout = pl[0]\n",
    "\n",
    "    if(yout_sub_1 == []): \n",
    "        class_diff = np.abs(len(yout[yout == min(tree_branch[0][1])]) - len(yout_sub_2))\n",
    "        for x in range(len(yout)): \n",
    "            if(yout[x] in tree_branch[0][1]):\n",
    "                if(class_diff < len(yout_sub_2)):\n",
    "                    yout[x] = yout_sub_2[class_diff] \n",
    "                    class_diff += 1\n",
    "        print(class_diff)\n",
    "\n",
    "    elif(yout_sub_2 == []): \n",
    "        class_diff = np.abs(len(yout[yout == min(tree_branch[0][0])]) - len(yout_sub_1))\n",
    "        for x in range(len(yout)): \n",
    "            if(yout[x] in tree_branch[0][0]):\n",
    "                if(class_diff < len(yout_sub_1)):\n",
    "                    yout[x] = yout_sub_1[class_diff] \n",
    "                    class_diff += 1\n",
    "        print(class_diff)\n",
    "\n",
    "    else:\n",
    "        count_sub_1 = 0 \n",
    "        count_sub_2 = 0 \n",
    "        for x in range(len(yout)): \n",
    "            if(yout[x] in tree_branch[0][0]):\n",
    "                if(count_sub_1 < len(yout_sub_1)):\n",
    "                    yout[x] = yout_sub_1[count_sub_1] \n",
    "                    count_sub_1 += 1\n",
    "            if(yout[x] in tree_branch[0][1]):\n",
    "                if(count_sub_2 < len(yout_sub_1)): \n",
    "                    yout[x] = yout_sub_1[count_sub_2] \n",
    "                    count_sub_2 += 1\n",
    "\n",
    "        print(count_sub_1)\n",
    "        print(count_sub_2)\n",
    "\n",
    "    return yout\n",
    "\n",
    "def SvmDesionTree(data, labels, tree_branches, svm_branch_models = {}):\n",
    "    \"\"\"\n",
    "    Every branch in the SVM Desion Tree is aimed to be 1v1 and 1vRest classification. \n",
    "    \"\"\"\n",
    "    #Seperating the data and labels to different sub classes\n",
    "\n",
    "    data_and_labels_branches = BranchDataLabels(data, labels, tree_branches)\n",
    "\n",
    "    #Trains a svm model for each branch from the \n",
    "    #If svm_branch_models defined, if not defined every branch have just regular SVC() \n",
    "\n",
    "    \n",
    "\n",
    "    if(len(svm_branch_models) > 0): \n",
    "        svm_branch_models = SvmBranchModelTrainDefined(data_and_labels_branches, svm_branch_models)\n",
    "    else: \n",
    "        svm_branch_models = SvmBranchModelTrain(data_and_labels_branches)\n",
    "\n",
    "    predicted_branch_labels = SvmBranchModelPredict(data_and_labels_branches, svm_branch_models)\n",
    "\n",
    "    predicted_label = combineLabels(predicted_branch_labels, tree_branches)\n",
    "\n",
    "    return predicted_label"
   ]
  },
  {
   "cell_type": "code",
   "execution_count": 256,
   "metadata": {},
   "outputs": [
    {
     "name": "stdout",
     "output_type": "stream",
     "text": [
      "Fisken print\n",
      "Fisken print\n",
      "[1 2 3 5]\n",
      "1814\n"
     ]
    },
    {
     "name": "stderr",
     "output_type": "stream",
     "text": [
      "C:\\Users\\jonas\\AppData\\Local\\Temp\\ipykernel_32108\\1658235883.py:189: DeprecationWarning: elementwise comparison failed; this will raise an error in the future.\n",
      "  if(yout_sub_1 == []):\n"
     ]
    }
   ],
   "source": [
    "# 1) Spruce, 2) Pine , 3) Decidous (leaf), 4) Water, 5) Clouds, and 0) other\n",
    "#tb =   {0 : [[1,2,3], [0,5]], 1 : [[[1,2], [3]],[[0],[5]]] , 2 : [[[1],[2]], []]}\n",
    "tb = {0 : [[1,2,3,5], [0]], 1 : [[[5], [1,2,3]], []], 2 : [[[3], [1,2]],[]], 3 : [[[1], [2]], []]}\n",
    "\n",
    "\n",
    "svm = SVC(kernel=\"linear\", C=1000)\n",
    "svm1 = SVC(kernel=\"linear\", C=1000)\n",
    "svm2 = SVC(kernel=\"linear\", C=1000)\n",
    "svm3 = SVC(kernel=\"linear\", C=1000)\n",
    "\n",
    "sbm = {0: svm, 1 : [svm1,False], 2 : [svm2, False], 3: [svm, svm]}\n",
    "\n",
    "dl = SvmDesionTree(X,y,tb, sbm)"
   ]
  },
  {
   "cell_type": "code",
   "execution_count": 239,
   "metadata": {},
   "outputs": [
    {
     "name": "stdout",
     "output_type": "stream",
     "text": [
      "Fisken print\n",
      "Fisken print\n",
      "[1 2 3 5]\n",
      "1814\n",
      "[1 2 3 ... 3 1 1]\n"
     ]
    },
    {
     "name": "stderr",
     "output_type": "stream",
     "text": [
      "C:\\Users\\jonas\\AppData\\Local\\Temp\\ipykernel_32108\\457109984.py:189: DeprecationWarning: elementwise comparison failed; this will raise an error in the future.\n",
      "  if(yout_sub_1 == []):\n"
     ]
    }
   ],
   "source": [
    "\n",
    "l = combineLabels(dl, tb)\n",
    "\n",
    "print(l)"
   ]
  },
  {
   "cell_type": "code",
   "execution_count": 240,
   "metadata": {},
   "outputs": [
    {
     "data": {
      "text/plain": [
       "array([1, 2, 3, 5], dtype=uint8)"
      ]
     },
     "execution_count": 240,
     "metadata": {},
     "output_type": "execute_result"
    }
   ],
   "source": [
    "classesInLabels(l)"
   ]
  },
  {
   "cell_type": "code",
   "execution_count": 212,
   "metadata": {},
   "outputs": [
    {
     "name": "stdout",
     "output_type": "stream",
     "text": [
      "True\n"
     ]
    }
   ],
   "source": [
    "print([min([1,2])] in [[1],[2]])"
   ]
  },
  {
   "cell_type": "code",
   "execution_count": 251,
   "metadata": {},
   "outputs": [
    {
     "name": "stdout",
     "output_type": "stream",
     "text": [
      "Fisken print\n",
      "Fisken print\n",
      "[1 2 3 5]\n",
      "1814\n"
     ]
    },
    {
     "name": "stderr",
     "output_type": "stream",
     "text": [
      "C:\\Users\\jonas\\AppData\\Local\\Temp\\ipykernel_32108\\1658235883.py:189: DeprecationWarning: elementwise comparison failed; this will raise an error in the future.\n",
      "  if(yout_sub_1 == []):\n"
     ]
    }
   ],
   "source": [
    "# 1) Spruce, 2) Pine , 3) Decidous (leaf), 4) Water, 5) Clouds, and 0) other\n",
    "#tb =   {0 : [[1,2,3], [0,5]], 1 : [[[1,2], [3]],[[0],[5]]] , 2 : [[[1],[2]], []]}\n",
    "tb = {0 : [[1,2,3,5], [0]], 1 : [[[5], [1,2,3]], []], 2 : [[[3], [1,2]],[]], 3 : [[[1], [2]], []]}\n",
    "\n",
    "\n",
    "svm = SVC(kernel=\"linear\", C=1000)\n",
    "svm1 = SVC(kernel=\"linear\", C=1000)\n",
    "svm2 = SVC(kernel=\"linear\", C=1000)\n",
    "svm3 = SVC(kernel=\"linear\", C=1000)\n",
    "\n",
    "sbm = {0: svm, 1 : [svm1,False], 2 : [svm2, False], 3: [svm3, False]}\n",
    "\n",
    "pl = SvmDesionTree(X,y,tb, sbm)\n",
    "\n",
    "\n"
   ]
  },
  {
   "cell_type": "code",
   "execution_count": 252,
   "metadata": {},
   "outputs": [
    {
     "name": "stdout",
     "output_type": "stream",
     "text": [
      "[1 5 0 ... 1 0 0]\n"
     ]
    }
   ],
   "source": [
    "print(pl)"
   ]
  },
  {
   "cell_type": "code",
   "execution_count": 253,
   "metadata": {},
   "outputs": [
    {
     "name": "stdout",
     "output_type": "stream",
     "text": [
      "0.6008\n"
     ]
    },
    {
     "data": {
      "text/plain": [
       "<sklearn.metrics._plot.confusion_matrix.ConfusionMatrixDisplay at 0x2e68c71d6c0>"
      ]
     },
     "execution_count": 253,
     "metadata": {},
     "output_type": "execute_result"
    },
    {
     "data": {
      "image/png": "[encoded data removed]",
      "text/plain": [
       "<Figure size 640x480 with 2 Axes>"
      ]
     },
     "metadata": {},
     "output_type": "display_data"
    }
   ],
   "source": [
    "print((pl == y).sum()/len(y))\n",
    "\n",
    "\n",
    "name_classes = [\"Other\", \"Spruce\", \"Pine\", \"Decidous\", \"Clouds\"]\n",
    "\n",
    "\n",
    "cm = confusion_matrix(y,pl, normalize=\"true\") \n",
    "cmd_obj = ConfusionMatrixDisplay(cm, display_labels=name_classes)\n",
    "cmd_obj.plot()"
   ]
  },
  {
   "cell_type": "code",
   "execution_count": 257,
   "metadata": {},
   "outputs": [
    {
     "name": "stdout",
     "output_type": "stream",
     "text": [
      "[0 1 2 3 5]\n"
     ]
    }
   ],
   "source": [
    "print(classesInLabels(pl))"
   ]
  },
  {
   "cell_type": "code",
   "execution_count": 139,
   "metadata": {},
   "outputs": [
    {
     "data": {
      "text/plain": [
       "<matplotlib.image.AxesImage at 0x2e68c88ed70>"
      ]
     },
     "execution_count": 139,
     "metadata": {},
     "output_type": "execute_result"
    },
    {
     "data": {
      "image/png": "[encoded data removed]",
      "text/plain": [
       "<Figure size 640x480 with 1 Axes>"
      ]
     },
     "metadata": {},
     "output_type": "display_data"
    }
   ],
   "source": [
    "plt.imshow(pl.reshape((50,50)))"
   ]
  },
  {
   "cell_type": "code",
   "execution_count": 13,
   "metadata": {},
   "outputs": [
    {
     "name": "stdout",
     "output_type": "stream",
     "text": [
      "9025\n"
     ]
    }
   ],
   "source": [
    "new_new_samson = reshape_sj(samson)\n",
    "\n",
    "X = new_new_samson.transpose(0,2,1).reshape((-1,156))\n",
    "X = preprocessing.scale(X, axis=0)\n",
    "print(len(X))\n",
    "\n",
    "y = samson_labels.flatten()"
   ]
  },
  {
   "cell_type": "code",
   "execution_count": 70,
   "metadata": {},
   "outputs": [
    {
     "name": "stdout",
     "output_type": "stream",
     "text": [
      "0.0\n"
     ]
    },
    {
     "ename": "ValueError",
     "evalue": "Found input variables with inconsistent numbers of samples: [2500, 2]",
     "output_type": "error",
     "traceback": [
      "\u001b[1;31m---------------------------------------------------------------------------\u001b[0m",
      "\u001b[1;31mValueError\u001b[0m                                Traceback (most recent call last)",
      "Cell \u001b[1;32mIn [70], line 15\u001b[0m\n\u001b[0;32m     10\u001b[0m \u001b[39m#1 Road, 2# Soil, #3, Water, #4 Three\u001b[39;00m\n\u001b[0;32m     12\u001b[0m name_classes \u001b[39m=\u001b[39m [\u001b[39m\"\u001b[39m\u001b[39mWater\u001b[39m\u001b[39m\"\u001b[39m, \u001b[39m\"\u001b[39m\u001b[39mTree\u001b[39m\u001b[39m\"\u001b[39m, \u001b[39m\"\u001b[39m\u001b[39mSoil\u001b[39m\u001b[39m\"\u001b[39m]\n\u001b[1;32m---> 15\u001b[0m cm \u001b[39m=\u001b[39m confusion_matrix(y,pl, normalize\u001b[39m=\u001b[39;49m\u001b[39m\"\u001b[39;49m\u001b[39mtrue\u001b[39;49m\u001b[39m\"\u001b[39;49m) \n\u001b[0;32m     16\u001b[0m cmd_obj \u001b[39m=\u001b[39m ConfusionMatrixDisplay(cm, display_labels\u001b[39m=\u001b[39mname_classes)\n\u001b[0;32m     17\u001b[0m cmd_obj\u001b[39m.\u001b[39mplot()\n",
      "File \u001b[1;32m~\\AppData\\Local\\Packages\\PythonSoftwareFoundation.Python.3.10_qbz5n2kfra8p0\\LocalCache\\local-packages\\Python310\\site-packages\\sklearn\\metrics\\_classification.py:307\u001b[0m, in \u001b[0;36mconfusion_matrix\u001b[1;34m(y_true, y_pred, labels, sample_weight, normalize)\u001b[0m\n\u001b[0;32m    222\u001b[0m \u001b[39mdef\u001b[39;00m \u001b[39mconfusion_matrix\u001b[39m(\n\u001b[0;32m    223\u001b[0m     y_true, y_pred, \u001b[39m*\u001b[39m, labels\u001b[39m=\u001b[39m\u001b[39mNone\u001b[39;00m, sample_weight\u001b[39m=\u001b[39m\u001b[39mNone\u001b[39;00m, normalize\u001b[39m=\u001b[39m\u001b[39mNone\u001b[39;00m\n\u001b[0;32m    224\u001b[0m ):\n\u001b[0;32m    225\u001b[0m     \u001b[39m\"\"\"Compute confusion matrix to evaluate the accuracy of a classification.\u001b[39;00m\n\u001b[0;32m    226\u001b[0m \n\u001b[0;32m    227\u001b[0m \u001b[39m    By definition a confusion matrix :math:`C` is such that :math:`C_{i, j}`\u001b[39;00m\n\u001b[1;32m   (...)\u001b[0m\n\u001b[0;32m    305\u001b[0m \u001b[39m    (0, 2, 1, 1)\u001b[39;00m\n\u001b[0;32m    306\u001b[0m \u001b[39m    \"\"\"\u001b[39;00m\n\u001b[1;32m--> 307\u001b[0m     y_type, y_true, y_pred \u001b[39m=\u001b[39m _check_targets(y_true, y_pred)\n\u001b[0;32m    308\u001b[0m     \u001b[39mif\u001b[39;00m y_type \u001b[39mnot\u001b[39;00m \u001b[39min\u001b[39;00m (\u001b[39m\"\u001b[39m\u001b[39mbinary\u001b[39m\u001b[39m\"\u001b[39m, \u001b[39m\"\u001b[39m\u001b[39mmulticlass\u001b[39m\u001b[39m\"\u001b[39m):\n\u001b[0;32m    309\u001b[0m         \u001b[39mraise\u001b[39;00m \u001b[39mValueError\u001b[39;00m(\u001b[39m\"\u001b[39m\u001b[39m%s\u001b[39;00m\u001b[39m is not supported\u001b[39m\u001b[39m\"\u001b[39m \u001b[39m%\u001b[39m y_type)\n",
      "File \u001b[1;32m~\\AppData\\Local\\Packages\\PythonSoftwareFoundation.Python.3.10_qbz5n2kfra8p0\\LocalCache\\local-packages\\Python310\\site-packages\\sklearn\\metrics\\_classification.py:84\u001b[0m, in \u001b[0;36m_check_targets\u001b[1;34m(y_true, y_pred)\u001b[0m\n\u001b[0;32m     57\u001b[0m \u001b[39mdef\u001b[39;00m \u001b[39m_check_targets\u001b[39m(y_true, y_pred):\n\u001b[0;32m     58\u001b[0m     \u001b[39m\"\"\"Check that y_true and y_pred belong to the same classification task.\u001b[39;00m\n\u001b[0;32m     59\u001b[0m \n\u001b[0;32m     60\u001b[0m \u001b[39m    This converts multiclass or binary types to a common shape, and raises a\u001b[39;00m\n\u001b[1;32m   (...)\u001b[0m\n\u001b[0;32m     82\u001b[0m \u001b[39m    y_pred : array or indicator matrix\u001b[39;00m\n\u001b[0;32m     83\u001b[0m \u001b[39m    \"\"\"\u001b[39;00m\n\u001b[1;32m---> 84\u001b[0m     check_consistent_length(y_true, y_pred)\n\u001b[0;32m     85\u001b[0m     type_true \u001b[39m=\u001b[39m type_of_target(y_true, input_name\u001b[39m=\u001b[39m\u001b[39m\"\u001b[39m\u001b[39my_true\u001b[39m\u001b[39m\"\u001b[39m)\n\u001b[0;32m     86\u001b[0m     type_pred \u001b[39m=\u001b[39m type_of_target(y_pred, input_name\u001b[39m=\u001b[39m\u001b[39m\"\u001b[39m\u001b[39my_pred\u001b[39m\u001b[39m\"\u001b[39m)\n",
      "File \u001b[1;32m~\\AppData\\Local\\Packages\\PythonSoftwareFoundation.Python.3.10_qbz5n2kfra8p0\\LocalCache\\local-packages\\Python310\\site-packages\\sklearn\\utils\\validation.py:387\u001b[0m, in \u001b[0;36mcheck_consistent_length\u001b[1;34m(*arrays)\u001b[0m\n\u001b[0;32m    385\u001b[0m uniques \u001b[39m=\u001b[39m np\u001b[39m.\u001b[39munique(lengths)\n\u001b[0;32m    386\u001b[0m \u001b[39mif\u001b[39;00m \u001b[39mlen\u001b[39m(uniques) \u001b[39m>\u001b[39m \u001b[39m1\u001b[39m:\n\u001b[1;32m--> 387\u001b[0m     \u001b[39mraise\u001b[39;00m \u001b[39mValueError\u001b[39;00m(\n\u001b[0;32m    388\u001b[0m         \u001b[39m\"\u001b[39m\u001b[39mFound input variables with inconsistent numbers of samples: \u001b[39m\u001b[39m%r\u001b[39;00m\u001b[39m\"\u001b[39m\n\u001b[0;32m    389\u001b[0m         \u001b[39m%\u001b[39m [\u001b[39mint\u001b[39m(l) \u001b[39mfor\u001b[39;00m l \u001b[39min\u001b[39;00m lengths]\n\u001b[0;32m    390\u001b[0m     )\n",
      "\u001b[1;31mValueError\u001b[0m: Found input variables with inconsistent numbers of samples: [2500, 2]"
     ]
    }
   ],
   "source": [
    "tb = {0: [[1],[0,2]], 1: [[],[[0],[2]]]}\n",
    "\n",
    "sbm = {0: SVC(kernel=\"linear\", C=1000), 1 : [False,SVC(kernel=\"linear\", C=1000)]}\n",
    "\n",
    "pl = SvmDesionTree(X,y,tb, sbm)\n",
    "\n",
    "\n",
    "print((pl == y).sum()/len(y))\n",
    "\n",
    "#1 Road, 2# Soil, #3, Water, #4 Three\n",
    "\n",
    "name_classes = [\"Water\", \"Tree\", \"Soil\"]\n",
    "\n",
    "\n",
    "cm = confusion_matrix(y,pl, normalize=\"true\") \n",
    "cmd_obj = ConfusionMatrixDisplay(cm, display_labels=name_classes)\n",
    "cmd_obj.plot()"
   ]
  },
  {
   "cell_type": "code",
   "execution_count": 15,
   "metadata": {},
   "outputs": [],
   "source": [
    "# split samson into train test sets\n",
    "X_train, X_test, y_train, y_test = train_test_split(X,y, test_size=0.999, random_state=1)"
   ]
  },
  {
   "cell_type": "code",
   "execution_count": 16,
   "metadata": {},
   "outputs": [
    {
     "name": "stdout",
     "output_type": "stream",
     "text": [
      "10000\n"
     ]
    }
   ],
   "source": [
    "new_jasper = reshape_sj(jasper)\n",
    "\n",
    "X = new_jasper.transpose(0,2,1).reshape((-1,198))\n",
    "X = preprocessing.scale(X, axis=0)\n",
    "print(len(X))\n",
    "\n",
    "y = jasper_labels.flatten()\n"
   ]
  },
  {
   "cell_type": "code",
   "execution_count": 17,
   "metadata": {},
   "outputs": [
    {
     "name": "stdout",
     "output_type": "stream",
     "text": [
      "[0 2 3]\n",
      "[]\n",
      "6674\n",
      "1.0\n"
     ]
    },
    {
     "data": {
      "text/plain": [
       "<sklearn.metrics._plot.confusion_matrix.ConfusionMatrixDisplay at 0x2e685713ca0>"
      ]
     },
     "execution_count": 17,
     "metadata": {},
     "output_type": "execute_result"
    },
    {
     "data": {
      "image/png": "[encoded data removed]",
      "text/plain": [
       "<Figure size 640x480 with 2 Axes>"
      ]
     },
     "metadata": {},
     "output_type": "display_data"
    }
   ],
   "source": [
    "tb = {0: [[0,2,3],[1]], 1: [[[3],[0,2]], []], 2 : [[[0],[2]], []]}\n",
    "\n",
    "sbm = {0: SVC(kernel=\"rbf\", C=100000), 1 : [SVC(kernel=\"rbf\", C=100000),False], 2: [SVC(kernel=\"rbf\", C=10000), False]}\n",
    "\n",
    "pl = SvmDesionTree(X,y,tb, sbm)\n",
    "\n",
    "\n",
    "print((pl == y).sum()/len(y))\n",
    "\n",
    "#1 Road, 2# Soil, #3, Water, #4 Three\n",
    "\n",
    "name_classes = [\"Soil\", \"Water\", \"Three\", \"Road\"]\n",
    "\n",
    "\n",
    "cm = confusion_matrix(y,pl, normalize=\"true\") \n",
    "cmd_obj = ConfusionMatrixDisplay(cm, display_labels=name_classes)\n",
    "cmd_obj.plot()"
   ]
  },
  {
   "cell_type": "code",
   "execution_count": 18,
   "metadata": {},
   "outputs": [
    {
     "data": {
      "text/plain": [
       "<matplotlib.image.AxesImage at 0x2e689117310>"
      ]
     },
     "execution_count": 18,
     "metadata": {},
     "output_type": "execute_result"
    },
    {
     "data": {
      "image/png": "[encoded data removed]",
      "text/plain": [
       "<Figure size 640x480 with 1 Axes>"
      ]
     },
     "metadata": {},
     "output_type": "display_data"
    }
   ],
   "source": [
    "plt.imshow(pl.reshape((100,100)))"
   ]
  }
 ],
 "metadata": {
  "kernelspec": {
   "display_name": "Python 3.10.8 64-bit (microsoft store)",
   "language": "python",
   "name": "python3"
  },
  "language_info": {
   "codemirror_mode": {
    "name": "ipython",
    "version": 3
   },
   "file_extension": ".py",
   "mimetype": "text/x-python",
   "name": "python",
   "nbconvert_exporter": "python",
   "pygments_lexer": "ipython3",
   "version": "3.10.8"
  },
  "orig_nbformat": 4,
  "vscode": {
   "interpreter": {
    "hash": "059b92ebffe316512df3810dcdd9739bd5d694b60baa1e9e8136193b1cf34557"
   }
  }
 },
 "nbformat": 4,
 "nbformat_minor": 2
}
