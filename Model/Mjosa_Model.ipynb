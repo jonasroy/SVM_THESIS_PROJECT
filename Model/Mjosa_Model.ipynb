{
 "cells": [
  {
   "cell_type": "code",
   "execution_count": null,
   "metadata": {},
   "outputs": [],
   "source": [
    "\"\"\"\n",
    "This Jupyter Notebook is used to test the SVMBDT implementation for the Mjosa dataset. \n",
    "It also test different other ML algortithms from the function SingleMachineLearningTest(). \n",
    "The labeled figures are store on the folder /Results/Mjøsa_Results and the results are printed in the console. \n",
    "\"\"\""
   ]
  },
  {
   "cell_type": "code",
   "execution_count": 1,
   "metadata": {},
   "outputs": [],
   "source": [
    "#Imports \n",
    "import pip\n",
    "import glob, os\n",
    "from sklearn import svm \n",
    "import scipy.io as sc\n",
    "import numpy as np\n",
    "from HelperFunctions_ import write_dataset_to_file, split_dataset_paths, subFrame,preprocessing_data, newColorLabels\n",
    "from HelperFunctions_ import  combinePictures, classesInLabels, combineLabelClasses, lessBands, reshape_sj, SingleMachineLearningTest\n",
    "from SVMBDT import SvmDesionTreeTrain, SvmDesionTreePredict, RetrieveSubData, CombineMultiBranch, MeanAccuracy, SupportVectorsSvmBranches, TotalAndMeanSupportVectors\n",
    "from spectral import *\n",
    "import pylab\n",
    "import tables as tab\n",
    "import matplotlib.pyplot as plt\n",
    "from sklearn import preprocessing\n",
    "from sklearn.model_selection import train_test_split, cross_val_score\n",
    "from sklearn.svm import LinearSVC, SVC, OneClassSVM\n",
    "from sklearn.tree import DecisionTreeClassifier\n",
    "from sklearn.metrics import confusion_matrix, ConfusionMatrixDisplay\n",
    "from sklearn.semi_supervised import SelfTrainingClassifier\n",
    "from sklearn.ensemble import StackingClassifier\n",
    "import copy\n",
    "import tables as ta\n",
    "from sklearn.cluster import KMeans\n",
    "from sklearn.neighbors import KNeighborsClassifier\n",
    "import matplotlib.patches as mpatches\n",
    "from sklearn.ensemble import RandomForestClassifier\n"
   ]
  },
  {
   "cell_type": "code",
   "execution_count": 2,
   "metadata": {},
   "outputs": [],
   "source": [
    "#Finding path names \n",
    "Mjosa_data = split_dataset_paths(\"../Datasets/2022_07_11_Mjosa/2022_07_11_Mjosa/\", [\"he5\", \"csv\", \"jpg\"])"
   ]
  },
  {
   "cell_type": "code",
   "execution_count": 3,
   "metadata": {},
   "outputs": [],
   "source": [
    "#Amount of dataset should be handled\n",
    "N_datasets = 4\n",
    "\n",
    "#Open files \n",
    "open_files_array = []\n",
    "for i in range(N_datasets):\n",
    "    file = tab.open_file(Mjosa_data[\"he5\"][i])\n",
    "    open_files_array.append(file.get_node(\"/HDFEOS/SWATHS/PRS_L1_HCO/\")['Data Fields']['VNIR_Cube'][:,5:,:])\n",
    "\n",
    "#Load the labels \n",
    "load_labels_array = []\n",
    "for i in range(N_datasets):\n",
    "    file = Mjosa_data[\"csv\"][i]\n",
    "    load_labels_array.append(np.loadtxt(file, dtype=np.ubyte))"
   ]
  },
  {
   "cell_type": "code",
   "execution_count": 4,
   "metadata": {},
   "outputs": [],
   "source": [
    "data = open_files_array[1]\n",
    "labels = load_labels_array[1]"
   ]
  },
  {
   "cell_type": "code",
   "execution_count": 5,
   "metadata": {},
   "outputs": [
    {
     "name": "stdout",
     "output_type": "stream",
     "text": [
      "61\n"
     ]
    }
   ],
   "source": [
    "print(len(data[0]))"
   ]
  },
  {
   "cell_type": "code",
   "execution_count": 6,
   "metadata": {},
   "outputs": [],
   "source": [
    "f1 = ta.open_file(\"../Datasets/2022_07_11_Mjosa/2022_07_11_Mjosa/PRS_L1_STD_OFFL_20220711104640_20220711104644_0001.he5\")\n",
    "\n",
    "d3 = f1.get_node(\"/HDFEOS/SWATHS/PRS_L1_HRC/\")\n",
    "\n",
    "mjosa_new_cube = np.zeros((1000,1000,3))\n",
    "mjosa_new_cube[:,:,0] = d3['Data Fields']['VNIR_Cube'][:,31,:]\n",
    "mjosa_new_cube[:,:,1] = d3['Data Fields']['VNIR_Cube'][:,43,:]\n",
    "mjosa_new_cube[:,:,2] = d3['Data Fields']['VNIR_Cube'][:,56,:]\n",
    "mjosa_new_cube /= mjosa_new_cube.max()/2\n",
    "mjosa_new_cube[mjosa_new_cube > 1 ] = 1\n",
    "\n",
    "\n",
    "plt.imshow(mjosa_new_cube)\n",
    "plt.axis('off')\n",
    "plt.savefig(\"../Results/Mjøsa_Results/Mjøsa_Data\", dpi = 300, bbox_inches=\"tight\")\n",
    "plt.close()"
   ]
  },
  {
   "cell_type": "code",
   "execution_count": 7,
   "metadata": {},
   "outputs": [],
   "source": [
    "X,y = preprocessing_data(data,labels,61)"
   ]
  },
  {
   "cell_type": "code",
   "execution_count": 8,
   "metadata": {},
   "outputs": [],
   "source": [
    "X_train, X_test, y_train, y_test = train_test_split(X,y, test_size=0.95, random_state=1)"
   ]
  },
  {
   "cell_type": "code",
   "execution_count": 8,
   "metadata": {},
   "outputs": [
    {
     "name": "stderr",
     "output_type": "stream",
     "text": [
      "C:\\Users\\jonas\\AppData\\Local\\Temp\\ipykernel_35668\\82161751.py:24: UserWarning: This figure includes Axes that are not compatible with tight_layout, so results might be incorrect.\n",
      "  plt.savefig(\"../Results/Mjøsa_Results/Mjøsa_GT\", dpi = 300, bbox_inches=\"tight\")\n"
     ]
    }
   ],
   "source": [
    "mjosa_color_label = {0: [255,165,0], 1: [34,139,34], 2: [53, 97, 4], 3: [5, 216, 105], 4 : [0,0,150], 5 : [210,210,210]}\n",
    "t=255\n",
    "cmap = {}\n",
    "\n",
    "for i in range(len(mjosa_color_label)): \n",
    "    cmap[i] = np.array(mjosa_color_label[i] + [255])/255\n",
    "\n",
    "\n",
    "# 1) Spruce, 2) Pine , 3) Decidous (leaf), 4) Water, 5) Clouds, and 0) other\n",
    "mjosa_classes = {0: \"Other\", 1: \"Spruce\",2: \"Pine\", 3:\"Decidous\", 4 : \"Water\", 5 : \"Clouds\"}\n",
    "\n",
    "shape = int(np.sqrt(len(y)))\n",
    "\n",
    "yout_color = newColorLabels(y,shape,shape,mjosa_color_label)\n",
    "\n",
    "plt.rcParams[\"figure.figsize\"] = [7.50, 3.50]\n",
    "plt.rcParams[\"figure.autolayout\"] = True\n",
    "\n",
    "patches = [mpatches.Patch(color=cmap[i], label=mjosa_classes[i]) for i in mjosa_color_label] \n",
    "\n",
    "plt.imshow(yout_color)\n",
    "plt.axis('off')\n",
    "#plt.legend(handles=patches, bbox_to_anchor=(1.05, 1), loc=2, borderaxespad=0. )\n",
    "plt.savefig(\"../Results/Mjøsa_Results/Mjøsa_GT\", dpi = 300, bbox_inches=\"tight\")\n",
    "plt.close()"
   ]
  },
  {
   "cell_type": "code",
   "execution_count": 15,
   "metadata": {},
   "outputs": [
    {
     "data": {
      "text/plain": [
       "<Figure size 130x140 with 0 Axes>"
      ]
     },
     "metadata": {},
     "output_type": "display_data"
    }
   ],
   "source": [
    "figLegend = pylab.figure(figsize = (1.3,1.4))\n",
    "figLegend.legend(handles=patches,loc = 'upper left')\n",
    "figLegend.savefig(\"../Results/Mjøsa_Results/Mjøsa_Classes\", dpi=500)"
   ]
  },
  {
   "cell_type": "code",
   "execution_count": 12,
   "metadata": {},
   "outputs": [
    {
     "name": "stdout",
     "output_type": "stream",
     "text": [
      "The training time is: 130.383 sec.\n"
     ]
    }
   ],
   "source": [
    "# 1) Spruce, 2) Pine , 3) Decidous (leaf), 4) Water, 5) Clouds, and 0) other\n",
    "tb = {0 : [[4],[0,1,2,3,5]], 1 : [[],[[5],[0,1,2,3]]], 2 : [[],[[0],[1,2,3]]], 3 : [[],[[1],[2,3]]], 4 : [[],[[2],[3]]]}\n",
    "\n",
    "iter = 1e5\n",
    "\n",
    "sbm = {0 : LinearSVC(class_weight= \"balanced\", max_iter=iter),\n",
    "       1 : [False, LinearSVC(class_weight= \"balanced\", max_iter=iter)], \n",
    "       2 : [False, LinearSVC(class_weight= \"balanced\", max_iter=iter)],\n",
    "       3 : [False, LinearSVC(class_weight= \"balanced\", max_iter=iter)], \n",
    "       4 : [False, LinearSVC(class_weight= \"balanced\", max_iter=iter)]}\n",
    "\n",
    "\n",
    "svm_tree_branches = SvmDesionTreeTrain(X_train, y_train, tb, sbm)"
   ]
  },
  {
   "cell_type": "code",
   "execution_count": 13,
   "metadata": {},
   "outputs": [
    {
     "name": "stdout",
     "output_type": "stream",
     "text": [
      "The first branch: 0.101\n",
      "The prediction time is: 4.663 sec.\n"
     ]
    }
   ],
   "source": [
    "predicted_label = SvmDesionTreePredict(X, svm_tree_branches, tb)"
   ]
  },
  {
   "cell_type": "code",
   "execution_count": 14,
   "metadata": {},
   "outputs": [
    {
     "data": {
      "text/plain": [
       "0.725833"
      ]
     },
     "execution_count": 14,
     "metadata": {},
     "output_type": "execute_result"
    }
   ],
   "source": [
    "sum(predicted_label == y)/len(y)"
   ]
  },
  {
   "cell_type": "code",
   "execution_count": 52,
   "metadata": {},
   "outputs": [
    {
     "name": "stdout",
     "output_type": "stream",
     "text": [
      "Linear 1-vs-1 Training Time: 238.309sec.\n",
      "Linear 1-vs-Rest Training Time: 2688.079sec.\n",
      "RBF Training Time: 214.895499sec.\n",
      "Kmeans Training Time: 0.751sec.\n",
      "KNearestNeighbor Training Time: 0.014sec.\n",
      "KNearestNeighbor Training Time: 28.862sec.\n",
      "Linear 1-vs-1 Predict Time: 1047.757sec.\n",
      "Linear 1-vs-Rest Predict Time: 0.252sec.\n",
      "RBF Predict Time: 3474.887sec.\n",
      "KMeans Predict Time: 0.213sec.\n",
      "KNearestNeighbor Predict Time: 47.078sec.\n",
      "Random Forest Predict Time: 14.657sec.\n",
      "Linear 1-vs-1 Accuracy: 68.46%\n",
      "Linear 1-vs-Rest Accuracy: 73.35000000000001%\n",
      "RBF Accuracy: 68.39%\n",
      "KMeans Accuracy: 8.48%\n",
      "KNearestNeighbour Accuracy: 75.2%\n",
      "Random Forest Accuracy: 78.7%\n",
      "Linear 1-vs-1 Total SVM Support_Vectors : 30245\n",
      "RBF Total SVM Support_Vectors : 31133\n",
      "Linear 1-vs-1 Average SVM Support_Vectors : 5040.833\n",
      "RBF Average SVM Support_Vectors : 5188.833\n"
     ]
    }
   ],
   "source": [
    "linear_ovo_yout, linear_ovr_yout, rbf_yout, kmeans_yout, knearest_yout,random_forest_yout = SingleMachineLearningTest(X,y,X_train, y_train,1e6,5)"
   ]
  },
  {
   "cell_type": "code",
   "execution_count": null,
   "metadata": {},
   "outputs": [],
   "source": []
  },
  {
   "cell_type": "code",
   "execution_count": 54,
   "metadata": {},
   "outputs": [
    {
     "name": "stderr",
     "output_type": "stream",
     "text": [
      "C:\\Users\\jonas\\AppData\\Local\\Temp\\ipykernel_23008\\2418608748.py:5: UserWarning: This figure includes Axes that are not compatible with tight_layout, so results might be incorrect.\n",
      "  plt.savefig(\"../Results/Mjøsa_Results/Mjøsa_linear_ovo\",dpi = 300, bbox_inches=\"tight\")\n"
     ]
    }
   ],
   "source": [
    "yout_color = newColorLabels(linear_ovo_yout,shape, mjosa_color_label)\n",
    "\n",
    "plt.imshow(yout_color)\n",
    "plt.axis('off')\n",
    "plt.savefig(\"../Results/Mjøsa_Results/Mjøsa_linear_ovo\",dpi = 300, bbox_inches=\"tight\")\n",
    "plt.close()"
   ]
  },
  {
   "cell_type": "code",
   "execution_count": 55,
   "metadata": {},
   "outputs": [
    {
     "name": "stderr",
     "output_type": "stream",
     "text": [
      "C:\\Users\\jonas\\AppData\\Local\\Temp\\ipykernel_23008\\778744977.py:5: UserWarning: This figure includes Axes that are not compatible with tight_layout, so results might be incorrect.\n",
      "  plt.savefig(\"../Results/Mjøsa_Results/Mjøsa_linear_ovr\",dpi = 300, bbox_inches=\"tight\")\n"
     ]
    }
   ],
   "source": [
    "yout_color = newColorLabels(linear_ovr_yout,shape, mjosa_color_label)\n",
    "\n",
    "plt.imshow(yout_color)\n",
    "plt.axis('off')\n",
    "plt.savefig(\"../Results/Mjøsa_Results/Mjøsa_linear_ovr\",dpi = 300, bbox_inches=\"tight\")\n",
    "plt.close()"
   ]
  },
  {
   "cell_type": "code",
   "execution_count": 56,
   "metadata": {},
   "outputs": [
    {
     "name": "stderr",
     "output_type": "stream",
     "text": [
      "C:\\Users\\jonas\\AppData\\Local\\Temp\\ipykernel_23008\\2460380850.py:5: UserWarning: This figure includes Axes that are not compatible with tight_layout, so results might be incorrect.\n",
      "  plt.savefig(\"../Results/Mjøsa_Results/Mjøsa_RBF\",dpi = 300, bbox_inches=\"tight\")\n"
     ]
    }
   ],
   "source": [
    "yout_color = newColorLabels(rbf_yout,shape, mjosa_color_label)\n",
    "\n",
    "plt.imshow(yout_color)\n",
    "plt.axis('off')\n",
    "plt.savefig(\"../Results/Mjøsa_Results/Mjøsa_RBF\",dpi = 300, bbox_inches=\"tight\")\n",
    "plt.close()"
   ]
  },
  {
   "cell_type": "code",
   "execution_count": 57,
   "metadata": {},
   "outputs": [
    {
     "name": "stderr",
     "output_type": "stream",
     "text": [
      "C:\\Users\\jonas\\AppData\\Local\\Temp\\ipykernel_23008\\2618902138.py:5: UserWarning: This figure includes Axes that are not compatible with tight_layout, so results might be incorrect.\n",
      "  plt.savefig(\"../Results/Mjøsa_Results/Mjøsa_KNN\",dpi = 300, bbox_inches=\"tight\")\n"
     ]
    }
   ],
   "source": [
    "yout_color = newColorLabels(knearest_yout,shape, mjosa_color_label)\n",
    "\n",
    "plt.imshow(yout_color)\n",
    "plt.axis('off')\n",
    "plt.savefig(\"../Results/Mjøsa_Results/Mjøsa_KNN\",dpi = 300, bbox_inches=\"tight\")\n",
    "plt.close()"
   ]
  },
  {
   "cell_type": "code",
   "execution_count": 58,
   "metadata": {},
   "outputs": [
    {
     "name": "stderr",
     "output_type": "stream",
     "text": [
      "C:\\Users\\jonas\\AppData\\Local\\Temp\\ipykernel_23008\\3393792025.py:5: UserWarning: This figure includes Axes that are not compatible with tight_layout, so results might be incorrect.\n",
      "  plt.savefig(\"../Results/Mjøsa_Results/Mjøsa_RF\",dpi = 300, bbox_inches=\"tight\")\n"
     ]
    }
   ],
   "source": [
    "yout_color = newColorLabels(random_forest_yout,shape, mjosa_color_label)\n",
    "\n",
    "plt.imshow(yout_color)\n",
    "plt.axis('off')\n",
    "plt.savefig(\"../Results/Mjøsa_Results/Mjøsa_RF\",dpi = 300, bbox_inches=\"tight\")\n",
    "plt.close()"
   ]
  },
  {
   "cell_type": "code",
   "execution_count": 71,
   "metadata": {},
   "outputs": [
    {
     "name": "stderr",
     "output_type": "stream",
     "text": [
      "C:\\Users\\jonas\\AppData\\Local\\Temp\\ipykernel_23008\\4090974047.py:6: UserWarning: This figure includes Axes that are not compatible with tight_layout, so results might be incorrect.\n",
      "  plt.savefig(\"../Results/Mjøsa_Results/Mjøsa_KM\",dpi = 300, bbox_inches=\"tight\")\n"
     ]
    }
   ],
   "source": [
    "mjosa_color_label = {3: [255,165,0], 2: [34,139,34], 0: [53, 97, 4], 5: [5, 216, 105], 1 : [0,0,150], 4 : [210,210,210]}\n",
    "yout_color = newColorLabels(kmeans_yout,shape, mjosa_color_label)\n",
    "\n",
    "plt.imshow(yout_color)\n",
    "plt.axis('off')\n",
    "plt.savefig(\"../Results/Mjøsa_Results/Mjøsa_KM\",dpi = 300, bbox_inches=\"tight\")\n",
    "plt.close()"
   ]
  }
 ],
 "metadata": {
  "kernelspec": {
   "display_name": "Python 3.10.8 64-bit (microsoft store)",
   "language": "python",
   "name": "python3"
  },
  "language_info": {
   "codemirror_mode": {
    "name": "ipython",
    "version": 3
   },
   "file_extension": ".py",
   "mimetype": "text/x-python",
   "name": "python",
   "nbconvert_exporter": "python",
   "pygments_lexer": "ipython3",
   "version": "3.10.8 (tags/v3.10.8:aaaf517, Oct 11 2022, 16:50:30) [MSC v.1933 64 bit (AMD64)]"
  },
  "orig_nbformat": 4,
  "vscode": {
   "interpreter": {
    "hash": "059b92ebffe316512df3810dcdd9739bd5d694b60baa1e9e8136193b1cf34557"
   }
  }
 },
 "nbformat": 4,
 "nbformat_minor": 2
}
